{
 "cells": [
  {
   "cell_type": "code",
   "execution_count": 0,
   "metadata": {
    "application/vnd.databricks.v1+cell": {
     "cellMetadata": {
      "byteLimit": 2048000,
      "rowLimit": 10000
     },
     "inputWidgets": {},
     "nuid": "3902d151-0eaa-455b-97bc-17db4f77264e",
     "showTitle": false,
     "title": ""
    }
   },
   "outputs": [
    {
     "output_type": "display_data",
     "data": {
      "application/vnd.databricks.v1+bamboolib_hint": "{\"pd.DataFrames\": [], \"version\": \"0.0.1\"}",
      "text/plain": []
     },
     "metadata": {},
     "output_type": "display_data"
    }
   ],
   "source": [
    "import os\n",
    "import pandas as pd\n",
    "import seaborn as sns\n",
    "import matplotlib as mpl\n",
    "import sklearn\n",
    "import numpy\n",
    "import scipy\n",
    "import plotly\n",
    "import bs4 as bs\n",
    "import urllib.request\n",
    "import boto3"
   ]
  },
  {
   "cell_type": "code",
   "execution_count": 0,
   "metadata": {
    "application/vnd.databricks.v1+cell": {
     "cellMetadata": {
      "byteLimit": 2048000,
      "rowLimit": 10000
     },
     "inputWidgets": {},
     "nuid": "a95e3e0e-b6a2-4657-8f0d-3fd1d1ce2960",
     "showTitle": false,
     "title": ""
    }
   },
   "outputs": [
    {
     "output_type": "stream",
     "name": "stdout",
     "output_type": "stream",
     "text": [
      "Python interpreter will be restarted.\nRequirement already satisfied: torch==2.1.0 in /local_disk0/.ephemeral_nfs/envs/pythonEnv-99f83462-ff49-4fcc-9805-03b76c4415f0/lib/python3.9/site-packages (2.1.0)\nRequirement already satisfied: nvidia-cuda-nvrtc-cu12==12.1.105 in /local_disk0/.ephemeral_nfs/envs/pythonEnv-99f83462-ff49-4fcc-9805-03b76c4415f0/lib/python3.9/site-packages (from torch==2.1.0) (12.1.105)\nRequirement already satisfied: nvidia-cudnn-cu12==8.9.2.26 in /local_disk0/.ephemeral_nfs/envs/pythonEnv-99f83462-ff49-4fcc-9805-03b76c4415f0/lib/python3.9/site-packages (from torch==2.1.0) (8.9.2.26)\nRequirement already satisfied: nvidia-nvtx-cu12==12.1.105 in /local_disk0/.ephemeral_nfs/envs/pythonEnv-99f83462-ff49-4fcc-9805-03b76c4415f0/lib/python3.9/site-packages (from torch==2.1.0) (12.1.105)\nRequirement already satisfied: jinja2 in /databricks/python3/lib/python3.9/site-packages (from torch==2.1.0) (2.11.3)\nRequirement already satisfied: nvidia-cusparse-cu12==12.1.0.106 in /local_disk0/.ephemeral_nfs/envs/pythonEnv-99f83462-ff49-4fcc-9805-03b76c4415f0/lib/python3.9/site-packages (from torch==2.1.0) (12.1.0.106)\nRequirement already satisfied: triton==2.1.0 in /local_disk0/.ephemeral_nfs/envs/pythonEnv-99f83462-ff49-4fcc-9805-03b76c4415f0/lib/python3.9/site-packages (from torch==2.1.0) (2.1.0)\nRequirement already satisfied: filelock in /usr/local/lib/python3.9/dist-packages (from torch==2.1.0) (3.9.0)\nRequirement already satisfied: fsspec in /local_disk0/.ephemeral_nfs/envs/pythonEnv-99f83462-ff49-4fcc-9805-03b76c4415f0/lib/python3.9/site-packages (from torch==2.1.0) (2023.10.0)\nRequirement already satisfied: nvidia-cublas-cu12==12.1.3.1 in /local_disk0/.ephemeral_nfs/envs/pythonEnv-99f83462-ff49-4fcc-9805-03b76c4415f0/lib/python3.9/site-packages (from torch==2.1.0) (12.1.3.1)\nRequirement already satisfied: nvidia-nccl-cu12==2.18.1 in /local_disk0/.ephemeral_nfs/envs/pythonEnv-99f83462-ff49-4fcc-9805-03b76c4415f0/lib/python3.9/site-packages (from torch==2.1.0) (2.18.1)\nRequirement already satisfied: nvidia-cufft-cu12==11.0.2.54 in /local_disk0/.ephemeral_nfs/envs/pythonEnv-99f83462-ff49-4fcc-9805-03b76c4415f0/lib/python3.9/site-packages (from torch==2.1.0) (11.0.2.54)\nRequirement already satisfied: nvidia-cuda-cupti-cu12==12.1.105 in /local_disk0/.ephemeral_nfs/envs/pythonEnv-99f83462-ff49-4fcc-9805-03b76c4415f0/lib/python3.9/site-packages (from torch==2.1.0) (12.1.105)\nRequirement already satisfied: typing-extensions in /databricks/python3/lib/python3.9/site-packages (from torch==2.1.0) (4.1.1)\nRequirement already satisfied: sympy in /local_disk0/.ephemeral_nfs/envs/pythonEnv-99f83462-ff49-4fcc-9805-03b76c4415f0/lib/python3.9/site-packages (from torch==2.1.0) (1.12)\nRequirement already satisfied: networkx in /local_disk0/.ephemeral_nfs/envs/pythonEnv-99f83462-ff49-4fcc-9805-03b76c4415f0/lib/python3.9/site-packages (from torch==2.1.0) (3.2.1)\nRequirement already satisfied: nvidia-cusolver-cu12==11.4.5.107 in /local_disk0/.ephemeral_nfs/envs/pythonEnv-99f83462-ff49-4fcc-9805-03b76c4415f0/lib/python3.9/site-packages (from torch==2.1.0) (11.4.5.107)\nRequirement already satisfied: nvidia-curand-cu12==10.3.2.106 in /local_disk0/.ephemeral_nfs/envs/pythonEnv-99f83462-ff49-4fcc-9805-03b76c4415f0/lib/python3.9/site-packages (from torch==2.1.0) (10.3.2.106)\nRequirement already satisfied: nvidia-cuda-runtime-cu12==12.1.105 in /local_disk0/.ephemeral_nfs/envs/pythonEnv-99f83462-ff49-4fcc-9805-03b76c4415f0/lib/python3.9/site-packages (from torch==2.1.0) (12.1.105)\nRequirement already satisfied: nvidia-nvjitlink-cu12 in /local_disk0/.ephemeral_nfs/envs/pythonEnv-99f83462-ff49-4fcc-9805-03b76c4415f0/lib/python3.9/site-packages (from nvidia-cusolver-cu12==11.4.5.107->torch==2.1.0) (12.3.101)\nRequirement already satisfied: MarkupSafe>=0.23 in /databricks/python3/lib/python3.9/site-packages (from jinja2->torch==2.1.0) (2.0.1)\nRequirement already satisfied: mpmath>=0.19 in /local_disk0/.ephemeral_nfs/envs/pythonEnv-99f83462-ff49-4fcc-9805-03b76c4415f0/lib/python3.9/site-packages (from sympy->torch==2.1.0) (1.3.0)\nPython interpreter will be restarted.\n"
     ]
    }
   ],
   "source": [
    "%pip install torch==2.1.0"
   ]
  },
  {
   "cell_type": "code",
   "execution_count": 0,
   "metadata": {
    "application/vnd.databricks.v1+cell": {
     "cellMetadata": {
      "byteLimit": 2048000,
      "rowLimit": 10000
     },
     "inputWidgets": {},
     "nuid": "ddb8605b-6a8e-4dde-b1cb-9546a087c61a",
     "showTitle": false,
     "title": ""
    }
   },
   "outputs": [],
   "source": [
    "file_path = 's3a://my-bigdata-project-sa/landing/amazon_reviews_us_Beauty_v1_00.tsv'\n",
    "sdf = spark.read.csv(file_path, sep='\\t', header=True, inferSchema=True)"
   ]
  },
  {
   "cell_type": "code",
   "execution_count": 0,
   "metadata": {
    "application/vnd.databricks.v1+cell": {
     "cellMetadata": {
      "byteLimit": 2048000,
      "rowLimit": 10000
     },
     "inputWidgets": {},
     "nuid": "640579f1-f265-4e18-99d6-21030ab87b81",
     "showTitle": false,
     "title": ""
    }
   },
   "outputs": [
    {
     "output_type": "stream",
     "name": "stdout",
     "output_type": "stream",
     "text": [
      "+-----------+---------------------+\n|customer_id|          review_body|\n+-----------+---------------------+\n|    1797882| Love this, excell...|\n|   18381298| The great thing a...|\n|   19242472| Great Product, I'...|\n|   19551372| I use them as sho...|\n|   14802407| This is my go-to ...|\n|    2909389|                 Good|\n|   19397215| Great eyeliner, d...|\n|    3195210|Best makeup remover！|\n|   52216383| This is a great p...|\n|   10278216| I thought it woul...|\n|   24655453| These are great f...|\n|   30788223| Just got this.  N...|\n|   11257536| Wish I had discov...|\n|   29605778| I bought this to ...|\n|   41238422| The tint is aweso...|\n|   23620123| I'm in love with ...|\n|   25564245| I was given this ...|\n|     801375| Magical everybody...|\n|    9478730| Works fantastic! ...|\n|   18418407| excellent battery...|\n+-----------+---------------------+\nonly showing top 20 rows\n\n"
     ]
    }
   ],
   "source": [
    "sdf.select(sdf.customer_id, sdf.review_body).show()"
   ]
  },
  {
   "cell_type": "code",
   "execution_count": 0,
   "metadata": {
    "application/vnd.databricks.v1+cell": {
     "cellMetadata": {
      "byteLimit": 2048000,
      "rowLimit": 10000
     },
     "inputWidgets": {},
     "nuid": "f094074f-f4f6-4986-8c4f-0d594096187e",
     "showTitle": false,
     "title": ""
    }
   },
   "outputs": [
    {
     "output_type": "stream",
     "name": "stdout",
     "output_type": "stream",
     "text": [
      "+-----------+-----------+--------------+----------+--------------+--------------------+----------------+-----------+-------------+-----------+----+-----------------+--------------------+---------------------+-----------+\n|marketplace|customer_id|     review_id|product_id|product_parent|       product_title|product_category|star_rating|helpful_votes|total_votes|vine|verified_purchase|     review_headline|          review_body|review_date|\n+-----------+-----------+--------------+----------+--------------+--------------------+----------------+-----------+-------------+-----------+----+-----------------+--------------------+---------------------+-----------+\n|         US|    1797882|R3I2DHQBR577SS|B001ANOOOE|       2102612|The Naked Bee Vit...|          Beauty|          5|            0|          0|   N|                Y|          Five Stars| Love this, excell...| 2015-08-31|\n|         US|   18381298|R1QNE9NQFJC2Y4|B0016J22EQ|     106393691|Alba Botanica Sun...|          Beauty|          5|            0|          0|   N|                Y|Thank you Alba Bo...| The great thing a...| 2015-08-31|\n|         US|   19242472|R3LIDG2Q4LJBAO|B00HU6UQAG|     375449471|Elysee Infusion S...|          Beauty|          5|            0|          0|   N|                Y|          Five Stars| Great Product, I'...| 2015-08-31|\n|         US|   19551372|R3KSZHPAEVPEAL|B002HWS7RM|     255651889|Diane D722 Color,...|          Beauty|          5|            0|          0|   N|                Y|          GOOD DEAL!| I use them as sho...| 2015-08-31|\n|         US|   14802407| RAI2OIG50KZ43|B00SM99KWU|     116158747|Biore UV Aqua Ric...|          Beauty|          5|            0|          0|   N|                Y|this soaks in qui...| This is my go-to ...| 2015-08-31|\n|         US|    2909389|R1R30FA4RB5P54|B000NYL1Z6|     166146615|Murad Clarifying ...|          Beauty|          4|            0|          0|   N|                Y|          Four Stars|                 Good| 2015-08-31|\n|         US|   19397215|R30IJKCGJBGPJH|B001SYWTFG|     111742328|CoverGirl Queen C...|          Beauty|          5|            0|          0|   N|                Y|            Good buy| Great eyeliner, d...| 2015-08-31|\n|         US|    3195210|R18GLJJPVQ1OVH|B005F2EVMQ|     255803087|Bifesta Mandom Ey...|          Beauty|          5|            0|          0|   N|                Y|          Five Stars|Best makeup remover！| 2015-08-31|\n|         US|   52216383| R8TVYIJXLYJT0|B00M1SUW7K|     246816549|Can You Handlebar...|          Beauty|          5|            0|          0|   N|                Y|Tame the wild mus...| This is a great p...| 2015-08-31|\n|         US|   24655453|R2A30ALEGLMCGN|B00SAQ9DZY|     292127037|12 New, High Qual...|          Beauty|          4|            1|          1|   N|                Y|        Good Product| These are great f...| 2015-08-31|\n|         US|   30788223|R134GP1Y3EQZ1L|B00HFQQ0VU|     311309827|Waterpik Aquarius...|          Beauty|          5|            0|          0|   N|                Y| Optimum Oral Health| Just got this.  N...| 2015-08-31|\n|         US|   11257536| R6CE3SOIUJGP4|B00PYL8MAA|     390030149|Proganix Agave Ne...|          Beauty|          4|            1|          1|   N|                N|   Love this cream !| Wish I had discov...| 2015-08-31|\n|         US|   29605778|R37CDLQZUPDZVM|B00D9NV2D4|     794858888|         Shea Butter|          Beauty|          5|            0|          0|   N|                Y|It works so much ...| I bought this to ...| 2015-08-31|\n|         US|   41238422|R1KH9XCK6GYT26|B008Y9M412|     874223919|Etude House Fresh...|          Beauty|          5|            0|          0|   N|                Y|          Five Stars| The tint is aweso...| 2015-08-31|\n|         US|   23620123|R3I4BQ6654MQNA|B00FWXBLHG|     464001209|Vintage Lil' Spon...|          Beauty|          5|            1|          1|   N|                Y|Great product, fa...| I'm in love with ...| 2015-08-31|\n|         US|   25564245|R3LUPG356F1D40|B003KL8CB0|     328680790|Jenna Jameson Hea...|          Beauty|          5|            3|          3|   N|                N|Does not smell ch...| I was given this ...| 2015-08-31|\n|         US|     801375|R3HNVRTHL9S2ZB|B006R2LNV0|     620737389|Korean Cosmetics_...|          Beauty|          5|            0|          0|   N|                N|          Five Stars| Magical everybody...| 2015-08-31|\n|         US|    9478730| R5HKL5RD4IUT8|B00SMIIR0W|     351973146|Schick Hydro Silk...|          Beauty|          5|            0|          0|   N|                Y|Love this Razor/T...| Works fantastic! ...| 2015-08-31|\n|         US|   18418407|R37Z8NBTHPR853|B003UKKH6O|      10034795|Oral-B Vitality P...|          Beauty|          5|            0|          0|   N|                Y|          Five Stars| excellent battery...| 2015-08-31|\n|         US|    4224840|R3N2C08ZJJ6SY1|B00HDZGF4K|     371977855|Joy & Karma Topic...|          Beauty|          5|            0|          0|   N|                N|            5 stars!| My skin feels so ...| 2015-08-31|\n+-----------+-----------+--------------+----------+--------------+--------------------+----------------+-----------+-------------+-----------+----+-----------------+--------------------+---------------------+-----------+\nonly showing top 20 rows\n\n"
     ]
    }
   ],
   "source": [
    "sdf.filter(sdf.star_rating > 3 ).show()"
   ]
  },
  {
   "cell_type": "code",
   "execution_count": 0,
   "metadata": {
    "application/vnd.databricks.v1+cell": {
     "cellMetadata": {
      "byteLimit": 2048000,
      "rowLimit": 10000
     },
     "inputWidgets": {},
     "nuid": "565cfd50-2991-42f8-8501-968c316f6b30",
     "showTitle": false,
     "title": ""
    }
   },
   "outputs": [
    {
     "output_type": "stream",
     "name": "stdout",
     "output_type": "stream",
     "text": [
      "+-----------+-----+\n|customer_id|count|\n+-----------+-----+\n|    9015608|    3|\n|    9767880|    2|\n|   15958313|    1|\n|   12879980|   20|\n|   43920023|   31|\n|     106535|    1|\n|   20328662|    1|\n|   12819130|    4|\n|   50145309|    1|\n|   15159322|    2|\n|   16747249|    2|\n|   37678162|    1|\n|     227763|    1|\n|   15191144|    2|\n|   31946913|    1|\n|   44295916|    1|\n|   19021463|    1|\n|     806337|    2|\n|   16306618|   18|\n|     393186|    1|\n+-----------+-----+\nonly showing top 20 rows\n\nOut[5]: [Row(customer_id=9015608, avg(helpful_votes)=3.0),\n Row(customer_id=9767880, avg(helpful_votes)=0.0),\n Row(customer_id=15958313, avg(helpful_votes)=0.0),\n Row(customer_id=12879980, avg(helpful_votes)=4.45),\n Row(customer_id=43920023, avg(helpful_votes)=0.7),\n Row(customer_id=106535, avg(helpful_votes)=0.0),\n Row(customer_id=20328662, avg(helpful_votes)=0.0),\n Row(customer_id=12819130, avg(helpful_votes)=0.0),\n Row(customer_id=50145309, avg(helpful_votes)=0.0),\n Row(customer_id=15159322, avg(helpful_votes)=0.0),\n Row(customer_id=16747249, avg(helpful_votes)=0.0),\n Row(customer_id=37678162, avg(helpful_votes)=0.0),\n Row(customer_id=227763, avg(helpful_votes)=1.0),\n Row(customer_id=15191144, avg(helpful_votes)=0.0),\n Row(customer_id=31946913, avg(helpful_votes)=0.0),\n Row(customer_id=44295916, avg(helpful_votes)=1.0),\n Row(customer_id=19021463, avg(helpful_votes)=0.0),\n Row(customer_id=806337, avg(helpful_votes)=0.5),\n Row(customer_id=16306618, avg(helpful_votes)=1.1666666666666667),\n Row(customer_id=393186, avg(helpful_votes)=0.0),\n Row(customer_id=38938149, avg(helpful_votes)=0.0),\n Row(customer_id=21052801, avg(helpful_votes)=0.4),\n Row(customer_id=4919528, avg(helpful_votes)=0.0),\n Row(customer_id=14230926, avg(helpful_votes)=0.0),\n Row(customer_id=17312392, avg(helpful_votes)=0.0),\n Row(customer_id=44178035, avg(helpful_votes)=0.8461538461538461),\n Row(customer_id=44558906, avg(helpful_votes)=0.0),\n Row(customer_id=45074906, avg(helpful_votes)=0.0),\n Row(customer_id=46932053, avg(helpful_votes)=1.5),\n Row(customer_id=134748, avg(helpful_votes)=0.0),\n Row(customer_id=2309796, avg(helpful_votes)=0.0),\n Row(customer_id=13374395, avg(helpful_votes)=0.0),\n Row(customer_id=10710471, avg(helpful_votes)=2.0),\n Row(customer_id=44620216, avg(helpful_votes)=1.0),\n Row(customer_id=25308938, avg(helpful_votes)=0.0),\n Row(customer_id=745601, avg(helpful_votes)=0.0),\n Row(customer_id=26079415, avg(helpful_votes)=0.0),\n Row(customer_id=1570030, avg(helpful_votes)=0.5),\n Row(customer_id=34089740, avg(helpful_votes)=0.0),\n Row(customer_id=13163273, avg(helpful_votes)=0.0),\n Row(customer_id=417296, avg(helpful_votes)=0.0),\n Row(customer_id=22874362, avg(helpful_votes)=0.0),\n Row(customer_id=14232404, avg(helpful_votes)=0.0),\n Row(customer_id=5596610, avg(helpful_votes)=0.0),\n Row(customer_id=20840575, avg(helpful_votes)=0.5),\n Row(customer_id=107536, avg(helpful_votes)=0.6666666666666666),\n Row(customer_id=15634680, avg(helpful_votes)=0.0),\n Row(customer_id=30782018, avg(helpful_votes)=7.0),\n Row(customer_id=48756634, avg(helpful_votes)=0.0),\n Row(customer_id=44360710, avg(helpful_votes)=0.0),\n Row(customer_id=30353553, avg(helpful_votes)=0.0),\n Row(customer_id=39383689, avg(helpful_votes)=0.0),\n Row(customer_id=17067926, avg(helpful_votes)=2.0),\n Row(customer_id=22558125, avg(helpful_votes)=0.0),\n Row(customer_id=49002398, avg(helpful_votes)=0.0),\n Row(customer_id=1537684, avg(helpful_votes)=1.0),\n Row(customer_id=11667505, avg(helpful_votes)=0.0),\n Row(customer_id=37843865, avg(helpful_votes)=0.0),\n Row(customer_id=15130315, avg(helpful_votes)=0.0),\n Row(customer_id=43538996, avg(helpful_votes)=0.0),\n Row(customer_id=11513885, avg(helpful_votes)=0.0),\n Row(customer_id=44730814, avg(helpful_votes)=0.0),\n Row(customer_id=10365752, avg(helpful_votes)=0.0),\n Row(customer_id=43881900, avg(helpful_votes)=2.0),\n Row(customer_id=53095124, avg(helpful_votes)=1.6),\n Row(customer_id=623532, avg(helpful_votes)=0.2),\n Row(customer_id=42319435, avg(helpful_votes)=1.6153846153846154),\n Row(customer_id=45217510, avg(helpful_votes)=1.0),\n Row(customer_id=46306239, avg(helpful_votes)=0.5),\n Row(customer_id=46311034, avg(helpful_votes)=0.0),\n Row(customer_id=27804232, avg(helpful_votes)=1.0),\n Row(customer_id=34939824, avg(helpful_votes)=0.0),\n Row(customer_id=30280506, avg(helpful_votes)=0.0),\n Row(customer_id=43677168, avg(helpful_votes)=1.0),\n Row(customer_id=23115984, avg(helpful_votes)=1.0),\n Row(customer_id=22341078, avg(helpful_votes)=3.642857142857143),\n Row(customer_id=25177082, avg(helpful_votes)=9.5),\n Row(customer_id=52081222, avg(helpful_votes)=0.0),\n Row(customer_id=3223716, avg(helpful_votes)=0.0),\n Row(customer_id=35718033, avg(helpful_votes)=2.0),\n Row(customer_id=893802, avg(helpful_votes)=0.0),\n Row(customer_id=37666248, avg(helpful_votes)=0.0),\n Row(customer_id=46043381, avg(helpful_votes)=0.0),\n Row(customer_id=41286423, avg(helpful_votes)=0.0),\n Row(customer_id=15435627, avg(helpful_votes)=0.5),\n Row(customer_id=41389277, avg(helpful_votes)=0.0),\n Row(customer_id=26546705, avg(helpful_votes)=0.0),\n Row(customer_id=10762160, avg(helpful_votes)=0.0),\n Row(customer_id=11994665, avg(helpful_votes)=0.0),\n Row(customer_id=43742600, avg(helpful_votes)=3.5357142857142856),\n Row(customer_id=49042101, avg(helpful_votes)=0.0),\n Row(customer_id=21105356, avg(helpful_votes)=1.5),\n Row(customer_id=7646398, avg(helpful_votes)=0.0),\n Row(customer_id=11020344, avg(helpful_votes)=0.0),\n Row(customer_id=16900893, avg(helpful_votes)=0.0),\n Row(customer_id=35718569, avg(helpful_votes)=2.0),\n Row(customer_id=12799128, avg(helpful_votes)=0.0),\n Row(customer_id=50503314, avg(helpful_votes)=0.0),\n Row(customer_id=23093679, avg(helpful_votes)=0.0),\n Row(customer_id=23947515, avg(helpful_votes)=0.37037037037037035),\n Row(customer_id=17977853, avg(helpful_votes)=0.0),\n Row(customer_id=18588863, avg(helpful_votes)=0.0),\n Row(customer_id=50489054, avg(helpful_votes)=0.0),\n Row(customer_id=4883305, avg(helpful_votes)=0.0),\n Row(customer_id=3233503, avg(helpful_votes)=1.0),\n Row(customer_id=10186051, avg(helpful_votes)=0.8),\n Row(customer_id=49231778, avg(helpful_votes)=1.5714285714285714),\n Row(customer_id=42245620, avg(helpful_votes)=0.6666666666666666),\n Row(customer_id=335704, avg(helpful_votes)=0.0),\n Row(customer_id=39535177, avg(helpful_votes)=0.0),\n Row(customer_id=4593696, avg(helpful_votes)=0.0),\n Row(customer_id=48783441, avg(helpful_votes)=0.0),\n Row(customer_id=29100052, avg(helpful_votes)=27.5),\n Row(customer_id=19108544, avg(helpful_votes)=1.5),\n Row(customer_id=38134355, avg(helpful_votes)=0.0),\n Row(customer_id=976417, avg(helpful_votes)=1.0),\n Row(customer_id=13483066, avg(helpful_votes)=0.0),\n Row(customer_id=40257826, avg(helpful_votes)=1.5),\n Row(customer_id=30181337, avg(helpful_votes)=0.0),\n Row(customer_id=42338719, avg(helpful_votes)=1.0),\n Row(customer_id=4937636, avg(helpful_votes)=0.0),\n Row(customer_id=24433562, avg(helpful_votes)=0.0),\n Row(customer_id=49273169, avg(helpful_votes)=0.5),\n Row(customer_id=26280187, avg(helpful_votes)=1.0),\n Row(customer_id=43476186, avg(helpful_votes)=0.0),\n Row(customer_id=18303425, avg(helpful_votes)=0.0),\n Row(customer_id=3291300, avg(helpful_votes)=0.42857142857142855),\n Row(customer_id=32141686, avg(helpful_votes)=1.0),\n Row(customer_id=447071, avg(helpful_votes)=0.0),\n Row(customer_id=255890, avg(helpful_votes)=1.0),\n Row(customer_id=12536485, avg(helpful_votes)=1.2727272727272727),\n Row(customer_id=13103594, avg(helpful_votes)=0.0),\n Row(customer_id=37914804, avg(helpful_votes)=0.2857142857142857),\n Row(customer_id=5220924, avg(helpful_votes)=0.0),\n Row(customer_id=20612911, avg(helpful_votes)=0.3333333333333333),\n Row(customer_id=48498277, avg(helpful_votes)=3.0),\n Row(customer_id=24564262, avg(helpful_votes)=0.0),\n Row(customer_id=28377689, avg(helpful_votes)=0.0),\n Row(customer_id=1586564, avg(helpful_votes)=6.125),\n Row(customer_id=28133809, avg(helpful_votes)=4.5),\n Row(customer_id=51379647, avg(helpful_votes)=0.16666666666666666),\n Row(customer_id=52057573, avg(helpful_votes)=0.6666666666666666),\n Row(customer_id=7537224, avg(helpful_votes)=0.0),\n Row(customer_id=4558274, avg(helpful_votes)=0.0),\n Row(customer_id=23706648, avg(helpful_votes)=2.0),\n Row(customer_id=40105367, avg(helpful_votes)=0.0),\n Row(customer_id=9402893, avg(helpful_votes)=0.0),\n Row(customer_id=722623, avg(helpful_votes)=0.5),\n Row(customer_id=13666091, avg(helpful_votes)=1.0),\n Row(customer_id=20486550, avg(helpful_votes)=1.1428571428571428),\n Row(customer_id=27707691, avg(helpful_votes)=1.0),\n Row(customer_id=10420701, avg(helpful_votes)=0.0),\n Row(customer_id=34257840, avg(helpful_votes)=0.0),\n Row(customer_id=48400474, avg(helpful_votes)=0.0),\n Row(customer_id=13131795, avg(helpful_votes)=0.0),\n Row(customer_id=12521601, avg(helpful_votes)=0.0),\n Row(customer_id=31457888, avg(helpful_votes)=0.0),\n Row(customer_id=10465408, avg(helpful_votes)=0.0),\n Row(customer_id=21414557, avg(helpful_votes)=0.6666666666666666),\n Row(customer_id=21737233, avg(helpful_votes)=6.428571428571429),\n Row(customer_id=37655312, avg(helpful_votes)=0.3333333333333333),\n Row(customer_id=11555870, avg(helpful_votes)=12.789473684210526),\n Row(customer_id=45812506, avg(helpful_votes)=0.2),\n Row(customer_id=14033756, avg(helpful_votes)=1.3333333333333333),\n Row(customer_id=30688048, avg(helpful_votes)=0.0),\n Row(customer_id=5057296, avg(helpful_votes)=0.0),\n Row(customer_id=41629368, avg(helpful_votes)=0.25),\n Row(customer_id=23043972, avg(helpful_votes)=1.0),\n Row(customer_id=43965493, avg(helpful_votes)=0.25),\n Row(customer_id=236689, avg(helpful_votes)=0.0),\n Row(customer_id=22746376, avg(helpful_votes)=0.0),\n Row(customer_id=11257395, avg(helpful_votes)=0.0),\n Row(customer_id=21920933, avg(helpful_votes)=0.0),\n Row(customer_id=38769755, avg(helpful_votes)=0.0),\n Row(customer_id=14444251, avg(helpful_votes)=2.0),\n Row(customer_id=27254234, avg(helpful_votes)=0.6842105263157895),\n Row(customer_id=36989690, avg(helpful_votes)=2.5714285714285716),\n Row(customer_id=23218495, avg(helpful_votes)=1.3333333333333333),\n Row(customer_id=41309407, avg(helpful_votes)=1.0),\n Row(customer_id=43792381, avg(helpful_votes)=2.0),\n Row(customer_id=33026395, avg(helpful_votes)=0.0),\n Row(customer_id=275995, avg(helpful_votes)=0.0),\n Row(customer_id=49920742, avg(helpful_votes)=0.0),\n Row(customer_id=41245384, avg(helpful_votes)=0.3125),\n Row(customer_id=38064090, avg(helpful_votes)=0.0),\n Row(customer_id=4183703, avg(helpful_votes)=0.0),\n Row(customer_id=45839134, avg(helpful_votes)=0.0),\n Row(customer_id=31914942, avg(helpful_votes)=0.0),\n Row(customer_id=4812275, avg(helpful_votes)=0.0),\n Row(customer_id=16054134, avg(helpful_votes)=1.0),\n Row(customer_id=23485040, avg(helpful_votes)=1.0),\n Row(customer_id=41972801, avg(helpful_votes)=0.0),\n Row(customer_id=47657818, avg(helpful_votes)=1.0),\n Row(customer_id=225277, avg(helpful_votes)=0.0),\n Row(customer_id=462334, avg(helpful_votes)=0.25),\n Row(customer_id=20644123, avg(helpful_votes)=0.0),\n Row(customer_id=14923280, avg(helpful_votes)=0.0),\n Row(customer_id=2863472, avg(helpful_votes)=0.0),\n Row(customer_id=9934893, avg(helpful_votes)=0.0),\n Row(customer_id=14593735, avg(helpful_votes)=0.0),\n Row(customer_id=25547471, avg(helpful_votes)=0.0),\n Row(customer_id=16192369, avg(helpful_votes)=0.5),\n Row(customer_id=29071735, avg(helpful_votes)=0.5),\n Row(customer_id=741712, avg(helpful_votes)=0.0),\n Row(customer_id=1990657, avg(helpful_votes)=8.0),\n Row(customer_id=721035, avg(helpful_votes)=0.0),\n Row(customer_id=1555287, avg(helpful_votes)=0.0),\n Row(customer_id=48548108, avg(helpful_votes)=1.0),\n Row(customer_id=26964493, avg(helpful_votes)=1.0),\n Row(customer_id=38008536, avg(helpful_votes)=0.0),\n Row(customer_id=20289484, avg(helpful_votes)=4.090909090909091),\n Row(customer_id=36112224, avg(helpful_votes)=2.0),\n Row(customer_id=19486270, avg(helpful_votes)=0.0),\n Row(customer_id=14716593, avg(helpful_votes)=1.0),\n Row(customer_id=31707435, avg(helpful_votes)=0.0),\n Row(customer_id=52454919, avg(helpful_votes)=0.0),\n Row(customer_id=10657179, avg(helpful_votes)=0.0),\n Row(customer_id=15952434, avg(helpful_votes)=0.0),\n Row(customer_id=35206851, avg(helpful_votes)=0.0),\n Row(customer_id=11639228, avg(helpful_votes)=0.0),\n Row(customer_id=34415539, avg(helpful_votes)=0.5),\n Row(customer_id=26893320, avg(helpful_votes)=14.666666666666666),\n Row(customer_id=20245503, avg(helpful_votes)=4.0),\n Row(customer_id=25066694, avg(helpful_votes)=0.0),\n Row(customer_id=33158467, avg(helpful_votes)=117.0),\n Row(customer_id=43160606, avg(helpful_votes)=4.0),\n Row(customer_id=116259, avg(helpful_votes)=0.0),\n Row(customer_id=38074098, avg(helpful_votes)=0.0),\n Row(customer_id=20777467, avg(helpful_votes)=1.0526315789473684),\n Row(customer_id=11366232, avg(helpful_votes)=2.3333333333333335),\n Row(customer_id=22631218, avg(helpful_votes)=0.0),\n Row(customer_id=34058255, avg(helpful_votes)=0.0),\n Row(customer_id=146411, avg(helpful_votes)=0.0),\n Row(customer_id=36440169, avg(helpful_votes)=2.3333333333333335),\n Row(customer_id=17238602, avg(helpful_votes)=2.0),\n Row(customer_id=22556149, avg(helpful_votes)=0.5294117647058824),\n Row(customer_id=10954383, avg(helpful_votes)=0.0),\n Row(customer_id=1092727, avg(helpful_votes)=0.0),\n Row(customer_id=46063489, avg(helpful_votes)=1.0),\n Row(customer_id=15900439, avg(helpful_votes)=1.0),\n Row(customer_id=52600613, avg(helpful_votes)=0.0),\n Row(customer_id=17603800, avg(helpful_votes)=0.0),\n Row(customer_id=43302494, avg(helpful_votes)=0.0),\n Row(customer_id=1686553, avg(helpful_votes)=0.0),\n Row(customer_id=18837190, avg(helpful_votes)=0.0),\n Row(customer_id=9928401, avg(helpful_votes)=1.0),\n Row(customer_id=26423616, avg(helpful_votes)=0.0),\n Row(customer_id=25318285, avg(helpful_votes)=1.0),\n Row(customer_id=48169653, avg(helpful_votes)=0.5),\n Row(customer_id=14665616, avg(helpful_votes)=0.0),\n Row(customer_id=45179460, avg(helpful_votes)=0.0),\n Row(customer_id=15070888, avg(helpful_votes)=0.0),\n Row(customer_id=49904741, avg(helpful_votes)=0.5),\n Row(customer_id=34968250, avg(helpful_votes)=0.0),\n Row(customer_id=37877850, avg(helpful_votes)=1.0),\n Row(customer_id=10252330, avg(helpful_votes)=2.5),\n Row(customer_id=40171751, avg(helpful_votes)=0.0),\n Row(customer_id=7673811, avg(helpful_votes)=0.0),\n Row(customer_id=15458522, avg(helpful_votes)=0.0),\n Row(customer_id=51748359, avg(helpful_votes)=0.0),\n Row(customer_id=12930433, avg(helpful_votes)=0.0),\n Row(customer_id=48356484, avg(helpful_votes)=0.5),\n Row(customer_id=41209915, avg(helpful_votes)=0.0),\n Row(customer_id=4868906, avg(helpful_votes)=0.0),\n Row(customer_id=29265130, avg(helpful_votes)=1.875),\n Row(customer_id=50470868, avg(helpful_votes)=0.0),\n Row(customer_id=21203519, avg(helpful_votes)=1.0),\n Row(customer_id=18345479, avg(helpful_votes)=1.5),\n Row(customer_id=11475945, avg(helpful_votes)=0.0),\n Row(customer_id=41205913, avg(helpful_votes)=0.0),\n Row(customer_id=41549558, avg(helpful_votes)=2.75),\n Row(customer_id=10586953, avg(helpful_votes)=0.0),\n Row(customer_id=189903, avg(helpful_votes)=0.0),\n Row(customer_id=14000728, avg(helpful_votes)=6.5),\n Row(customer_id=45325144, avg(helpful_votes)=0.0),\n Row(customer_id=24422653, avg(helpful_votes)=0.16666666666666666),\n Row(customer_id=11561650, avg(helpful_votes)=0.0),\n Row(customer_id=51935678, avg(helpful_votes)=0.0),\n Row(customer_id=3909801, avg(helpful_votes)=0.0),\n Row(customer_id=5472111, avg(helpful_votes)=0.14285714285714285),\n Row(customer_id=19116126, avg(helpful_votes)=0.8888888888888888),\n Row(customer_id=52156255, avg(helpful_votes)=0.0),\n Row(customer_id=10063163, avg(helpful_votes)=1.0),\n Row(customer_id=1367193, avg(helpful_votes)=0.2857142857142857),\n Row(customer_id=2970164, avg(helpful_votes)=0.0),\n Row(customer_id=16683397, avg(helpful_votes)=0.0),\n Row(customer_id=12940, avg(helpful_votes)=0.0),\n Row(customer_id=34480391, avg(helpful_votes)=0.0),\n Row(customer_id=12122942, avg(helpful_votes)=0.0),\n Row(customer_id=15223093, avg(helpful_votes)=1.0),\n Row(customer_id=29891154, avg(helpful_votes)=0.0),\n Row(customer_id=14207463, avg(helpful_votes)=0.0),\n Row(customer_id=50262123, avg(helpful_votes)=0.6),\n Row(customer_id=1560110, avg(helpful_votes)=0.0),\n Row(customer_id=41587809, avg(helpful_votes)=2.3333333333333335),\n Row(customer_id=27204902, avg(helpful_votes)=0.5),\n Row(customer_id=40320231, avg(helpful_votes)=0.0),\n Row(customer_id=16803316, avg(helpful_votes)=0.0),\n Row(customer_id=19586195, avg(helpful_votes)=0.25),\n Row(customer_id=41320701, avg(helpful_votes)=0.0),\n Row(customer_id=151960, avg(helpful_votes)=0.0),\n Row(customer_id=19774827, avg(helpful_votes)=0.0),\n Row(customer_id=29749831, avg(helpful_votes)=0.0),\n Row(customer_id=39711057, avg(helpful_votes)=1.0),\n Row(customer_id=10573596, avg(helpful_votes)=0.5),\n Row(customer_id=20598424, avg(helpful_votes)=0.3333333333333333),\n Row(customer_id=44331900, avg(helpful_votes)=2.0),\n Row(customer_id=22468109, avg(helpful_votes)=1.0),\n Row(customer_id=2326145, avg(helpful_votes)=0.0),\n Row(customer_id=27685081, avg(helpful_votes)=0.0),\n Row(customer_id=5138898, avg(helpful_votes)=0.0),\n Row(customer_id=46077784, avg(helpful_votes)=0.16666666666666666),\n Row(customer_id=337329, avg(helpful_votes)=0.0),\n Row(customer_id=14769488, avg(helpful_votes)=0.0),\n Row(customer_id=37265148, avg(helpful_votes)=1.0),\n Row(customer_id=13032391, avg(helpful_votes)=0.0),\n Row(customer_id=2417738, avg(helpful_votes)=0.0),\n Row(customer_id=6199079, avg(helpful_votes)=0.0),\n Row(customer_id=52817815, avg(helpful_votes)=2.25),\n Row(customer_id=13300647, avg(helpful_votes)=4.0),\n Row(customer_id=36456154, avg(helpful_votes)=0.2),\n Row(customer_id=10031236, avg(helpful_votes)=0.21428571428571427),\n Row(customer_id=51075319, avg(helpful_votes)=1.6666666666666667),\n Row(customer_id=19873608, avg(helpful_votes)=0.0),\n Row(customer_id=14808516, avg(helpful_votes)=0.8333333333333334),\n Row(customer_id=13676758, avg(helpful_votes)=0.0),\n Row(customer_id=1678744, avg(helpful_votes)=0.0),\n Row(customer_id=5947448, avg(helpful_votes)=0.0),\n Row(customer_id=41240350, avg(helpful_votes)=2.5384615384615383),\n Row(customer_id=50995116, avg(helpful_votes)=3.0),\n Row(customer_id=50107709, avg(helpful_votes)=0.0),\n Row(customer_id=3610318, avg(helpful_votes)=0.36363636363636365),\n Row(customer_id=529491, avg(helpful_votes)=0.0),\n Row(customer_id=49269565, avg(helpful_votes)=0.0),\n Row(customer_id=45499430, avg(helpful_votes)=0.0),\n Row(customer_id=1715626, avg(helpful_votes)=0.0),\n Row(customer_id=188644, avg(helpful_votes)=0.0),\n Row(customer_id=51571609, avg(helpful_votes)=0.3333333333333333),\n Row(customer_id=46891757, avg(helpful_votes)=5.479166666666667),\n Row(customer_id=26756344, avg(helpful_votes)=0.0),\n Row(customer_id=22127113, avg(helpful_votes)=0.0),\n Row(customer_id=20367659, avg(helpful_votes)=0.6666666666666666),\n Row(customer_id=47523731, avg(helpful_votes)=2.0),\n Row(customer_id=29461963, avg(helpful_votes)=0.0),\n Row(customer_id=10678325, avg(helpful_votes)=0.5),\n Row(customer_id=51240803, avg(helpful_votes)=0.0),\n Row(customer_id=47308726, avg(helpful_votes)=0.08333333333333333),\n Row(customer_id=44730332, avg(helpful_votes)=1.0),\n Row(customer_id=155430, avg(helpful_votes)=0.0),\n Row(customer_id=35578800, avg(helpful_votes)=2.0),\n Row(customer_id=47349335, avg(helpful_votes)=0.0),\n Row(customer_id=2936955, avg(helpful_votes)=1.0),\n Row(customer_id=41564698, avg(helpful_votes)=0.0),\n Row(customer_id=46342017, avg(helpful_votes)=1.0),\n Row(customer_id=16075459, avg(helpful_votes)=0.0),\n Row(customer_id=46803284, avg(helpful_votes)=0.0),\n Row(customer_id=357778, avg(helpful_votes)=0.0),\n Row(customer_id=8871497, avg(helpful_votes)=0.0),\n Row(customer_id=2324673, avg(helpful_votes)=0.0),\n Row(customer_id=22218426, avg(helpful_votes)=0.0),\n Row(customer_id=52518821, avg(helpful_votes)=0.5),\n Row(customer_id=45624250, avg(helpful_votes)=0.0),\n Row(customer_id=14171713, avg(helpful_votes)=0.6666666666666666),\n Row(customer_id=452010, avg(helpful_votes)=0.0),\n Row(customer_id=47381986, avg(helpful_votes)=1.0),\n Row(customer_id=15825519, avg(helpful_votes)=1.0),\n Row(customer_id=835694, avg(helpful_votes)=0.5),\n Row(customer_id=166735, avg(helpful_votes)=1.0),\n Row(customer_id=15338383, avg(helpful_votes)=1.6),\n Row(customer_id=17167957, avg(helpful_votes)=6.333333333333333),\n Row(customer_id=409244, avg(helpful_votes)=0.5),\n Row(customer_id=17831696, avg(helpful_votes)=2.0),\n Row(customer_id=2077461, avg(helpful_votes)=0.0),\n Row(customer_id=6989903, avg(helpful_votes)=1.0),\n Row(customer_id=41821136, avg(helpful_votes)=0.0),\n Row(customer_id=14077350, avg(helpful_votes)=1.0),\n Row(customer_id=4641462, avg(helpful_votes)=1.0),\n Row(customer_id=24316559, avg(helpful_votes)=2.0),\n Row(customer_id=11685875, avg(helpful_votes)=1.0),\n Row(customer_id=3369197, avg(helpful_votes)=0.0),\n Row(customer_id=24098708, avg(helpful_votes)=0.0),\n Row(customer_id=16640375, avg(helpful_votes)=0.0),\n Row(customer_id=987960, avg(helpful_votes)=0.0),\n Row(customer_id=51265055, avg(helpful_votes)=1.0),\n Row(customer_id=51800594, avg(helpful_votes)=0.0),\n Row(customer_id=3199080, avg(helpful_votes)=0.0),\n Row(customer_id=13606342, avg(helpful_votes)=1.0),\n Row(customer_id=9368654, avg(helpful_votes)=0.0),\n Row(customer_id=13441123, avg(helpful_votes)=0.0),\n Row(customer_id=21123601, avg(helpful_votes)=0.0),\n Row(customer_id=47566849, avg(helpful_votes)=0.0),\n Row(customer_id=24520900, avg(helpful_votes)=2.2222222222222223),\n Row(customer_id=41515920, avg(helpful_votes)=0.5),\n Row(customer_id=122128, avg(helpful_votes)=1.0),\n Row(customer_id=2329951, avg(helpful_votes)=1.5),\n Row(customer_id=11187195, avg(helpful_votes)=0.0),\n Row(customer_id=37625844, avg(helpful_votes)=0.0),\n Row(customer_id=5513428, avg(helpful_votes)=0.5),\n Row(customer_id=8554099, avg(helpful_votes)=0.14285714285714285),\n Row(customer_id=34798705, avg(helpful_votes)=0.0),\n Row(customer_id=30132779, avg(helpful_votes)=0.0),\n Row(customer_id=32602154, avg(helpful_votes)=0.0),\n Row(customer_id=43844749, avg(helpful_votes)=0.0),\n Row(customer_id=39522963, avg(helpful_votes)=2.1333333333333333),\n Row(customer_id=13764325, avg(helpful_votes)=0.0),\n Row(customer_id=28009324, avg(helpful_votes)=0.0),\n Row(customer_id=43403923, avg(helpful_votes)=1.0),\n Row(customer_id=13992097, avg(helpful_votes)=0.0),\n Row(customer_id=31581262, avg(helpful_votes)=0.0),\n Row(customer_id=42226520, avg(helpful_votes)=3.3333333333333335),\n Row(customer_id=46965015, avg(helpful_votes)=1.0),\n Row(customer_id=36728141, avg(helpful_votes)=1.5),\n Row(customer_id=31447151, avg(helpful_votes)=0.0),\n Row(customer_id=16553261, avg(helpful_votes)=0.0),\n Row(customer_id=8057776, avg(helpful_votes)=0.0),\n Row(customer_id=51430002, avg(helpful_votes)=0.0),\n Row(customer_id=11483667, avg(helpful_votes)=0.0),\n Row(customer_id=11015404, avg(helpful_votes)=0.0),\n Row(customer_id=22638817, avg(helpful_votes)=0.0),\n Row(customer_id=19888937, avg(helpful_votes)=0.0),\n Row(customer_id=13858818, avg(helpful_votes)=0.0),\n Row(customer_id=244430, avg(helpful_votes)=1.0),\n Row(customer_id=16630991, avg(helpful_votes)=1.0),\n Row(customer_id=24654530, avg(helpful_votes)=0.5),\n Row(customer_id=18030113, avg(helpful_votes)=0.0),\n Row(customer_id=17705601, avg(helpful_votes)=1.6),\n Row(customer_id=13530310, avg(helpful_votes)=1.5),\n Row(customer_id=46281517, avg(helpful_votes)=0.75),\n Row(customer_id=29567605, avg(helpful_votes)=0.0),\n Row(customer_id=44622065, avg(helpful_votes)=0.29411764705882354),\n Row(customer_id=2934505, avg(helpful_votes)=0.5),\n Row(customer_id=22192320, avg(helpful_votes)=0.0),\n Row(customer_id=22219312, avg(helpful_votes)=1.0),\n Row(customer_id=47834909, avg(helpful_votes)=0.0),\n Row(customer_id=1790260, avg(helpful_votes)=0.0),\n Row(customer_id=15220444, avg(helpful_votes)=1.0),\n Row(customer_id=125502, avg(helpful_votes)=1.0),\n Row(customer_id=14558767, avg(helpful_votes)=0.0),\n Row(customer_id=154202, avg(helpful_votes)=0.3333333333333333),\n Row(customer_id=34898896, avg(helpful_votes)=0.0),\n Row(customer_id=13940582, avg(helpful_votes)=1.0),\n Row(customer_id=4210737, avg(helpful_votes)=0.0),\n Row(customer_id=18928075, avg(helpful_votes)=1.0),\n Row(customer_id=14597233, avg(helpful_votes)=0.6363636363636364),\n Row(customer_id=606094, avg(helpful_votes)=0.0),\n Row(customer_id=46599848, avg(helpful_votes)=1.3333333333333333),\n Row(customer_id=49741604, avg(helpful_votes)=0.0),\n Row(customer_id=20296501, avg(helpful_votes)=0.0),\n Row(customer_id=39555250, avg(helpful_votes)=1.6666666666666667),\n Row(customer_id=18300783, avg(helpful_votes)=0.0),\n Row(customer_id=863433, avg(helpful_votes)=1.0),\n Row(customer_id=1358272, avg(helpful_votes)=0.0),\n Row(customer_id=20322623, avg(helpful_votes)=0.0),\n Row(customer_id=455924, avg(helpful_votes)=0.0),\n Row(customer_id=40826362, avg(helpful_votes)=0.0),\n Row(customer_id=30391044, avg(helpful_votes)=1.0),\n Row(customer_id=21917962, avg(helpful_vote\n\n*** WARNING: max output size exceeded, skipping output. ***\n\n, avg(helpful_votes)=2.0),\n Row(customer_id=171006, avg(helpful_votes)=0.0),\n Row(customer_id=7605703, avg(helpful_votes)=0.0),\n Row(customer_id=749857, avg(helpful_votes)=0.0),\n Row(customer_id=2323338, avg(helpful_votes)=2.0),\n Row(customer_id=11578961, avg(helpful_votes)=0.0),\n Row(customer_id=42142940, avg(helpful_votes)=4.0),\n Row(customer_id=455082, avg(helpful_votes)=0.06666666666666667),\n Row(customer_id=33940782, avg(helpful_votes)=0.85),\n Row(customer_id=232643, avg(helpful_votes)=0.0),\n Row(customer_id=11293680, avg(helpful_votes)=4.4),\n Row(customer_id=31526442, avg(helpful_votes)=1.0),\n Row(customer_id=51244471, avg(helpful_votes)=0.0),\n Row(customer_id=8896618, avg(helpful_votes)=0.0),\n Row(customer_id=22807178, avg(helpful_votes)=2.0),\n Row(customer_id=42047818, avg(helpful_votes)=0.6666666666666666),\n Row(customer_id=11388044, avg(helpful_votes)=0.0),\n Row(customer_id=41260126, avg(helpful_votes)=0.0),\n Row(customer_id=27046360, avg(helpful_votes)=0.0),\n Row(customer_id=27596904, avg(helpful_votes)=0.0),\n Row(customer_id=4368231, avg(helpful_votes)=1.0),\n Row(customer_id=35386811, avg(helpful_votes)=0.0),\n Row(customer_id=11318735, avg(helpful_votes)=1.0),\n Row(customer_id=5312987, avg(helpful_votes)=2.0),\n Row(customer_id=41271942, avg(helpful_votes)=0.0),\n Row(customer_id=1516620, avg(helpful_votes)=0.0),\n Row(customer_id=22260006, avg(helpful_votes)=1.6666666666666667),\n Row(customer_id=19528860, avg(helpful_votes)=1.0),\n Row(customer_id=356794, avg(helpful_votes)=0.0),\n Row(customer_id=35024582, avg(helpful_votes)=0.0),\n Row(customer_id=39141666, avg(helpful_votes)=0.5),\n Row(customer_id=7898563, avg(helpful_votes)=0.0),\n Row(customer_id=13730111, avg(helpful_votes)=0.2),\n Row(customer_id=48489393, avg(helpful_votes)=3.0),\n Row(customer_id=1066921, avg(helpful_votes)=0.0),\n Row(customer_id=50407278, avg(helpful_votes)=0.0),\n Row(customer_id=17682867, avg(helpful_votes)=0.0),\n Row(customer_id=48668689, avg(helpful_votes)=0.0),\n Row(customer_id=35432708, avg(helpful_votes)=0.0),\n Row(customer_id=37223012, avg(helpful_votes)=0.4),\n Row(customer_id=43804223, avg(helpful_votes)=0.0),\n Row(customer_id=37145687, avg(helpful_votes)=0.6666666666666666),\n Row(customer_id=25834172, avg(helpful_votes)=0.0),\n Row(customer_id=52768264, avg(helpful_votes)=0.6666666666666666),\n Row(customer_id=51608198, avg(helpful_votes)=0.0),\n Row(customer_id=51805625, avg(helpful_votes)=0.0),\n Row(customer_id=35530834, avg(helpful_votes)=0.0),\n Row(customer_id=14489920, avg(helpful_votes)=0.3333333333333333),\n Row(customer_id=4409437, avg(helpful_votes)=1.0),\n Row(customer_id=24557051, avg(helpful_votes)=0.13157894736842105),\n Row(customer_id=25634519, avg(helpful_votes)=0.0),\n Row(customer_id=36097886, avg(helpful_votes)=0.0),\n Row(customer_id=915602, avg(helpful_votes)=0.0),\n Row(customer_id=26095457, avg(helpful_votes)=0.4444444444444444),\n Row(customer_id=10824536, avg(helpful_votes)=0.0),\n Row(customer_id=2489126, avg(helpful_votes)=0.0),\n Row(customer_id=46277736, avg(helpful_votes)=0.0),\n Row(customer_id=9339165, avg(helpful_votes)=0.0),\n Row(customer_id=17145934, avg(helpful_votes)=0.0),\n Row(customer_id=35822791, avg(helpful_votes)=0.0),\n Row(customer_id=2456078, avg(helpful_votes)=0.0),\n Row(customer_id=28286371, avg(helpful_votes)=0.0),\n Row(customer_id=47654056, avg(helpful_votes)=0.0),\n Row(customer_id=52505679, avg(helpful_votes)=0.0),\n Row(customer_id=15523130, avg(helpful_votes)=0.0),\n Row(customer_id=35965984, avg(helpful_votes)=0.0),\n Row(customer_id=52918362, avg(helpful_votes)=0.6666666666666666),\n Row(customer_id=36644041, avg(helpful_votes)=1.0),\n Row(customer_id=47929425, avg(helpful_votes)=0.0),\n Row(customer_id=1031017, avg(helpful_votes)=0.0),\n Row(customer_id=20781887, avg(helpful_votes)=1.0),\n Row(customer_id=20931170, avg(helpful_votes)=1.75),\n Row(customer_id=2602867, avg(helpful_votes)=0.5),\n Row(customer_id=10523418, avg(helpful_votes)=1.0),\n Row(customer_id=52814758, avg(helpful_votes)=3.0),\n Row(customer_id=2005908, avg(helpful_votes)=2.0),\n Row(customer_id=7734058, avg(helpful_votes)=0.0),\n Row(customer_id=18537894, avg(helpful_votes)=0.0),\n Row(customer_id=24659056, avg(helpful_votes)=0.0),\n Row(customer_id=23004269, avg(helpful_votes)=0.0),\n Row(customer_id=22953532, avg(helpful_votes)=1.2),\n Row(customer_id=149761, avg(helpful_votes)=0.0),\n Row(customer_id=13299233, avg(helpful_votes)=0.0),\n Row(customer_id=24978143, avg(helpful_votes)=2.0),\n Row(customer_id=21873315, avg(helpful_votes)=0.0),\n Row(customer_id=200166, avg(helpful_votes)=0.0),\n Row(customer_id=16708677, avg(helpful_votes)=0.0),\n Row(customer_id=43839050, avg(helpful_votes)=3.6666666666666665),\n Row(customer_id=12899871, avg(helpful_votes)=0.5555555555555556),\n Row(customer_id=182678, avg(helpful_votes)=0.5),\n Row(customer_id=40695622, avg(helpful_votes)=0.0),\n Row(customer_id=42504045, avg(helpful_votes)=1.0),\n Row(customer_id=15895413, avg(helpful_votes)=1.0),\n Row(customer_id=1519339, avg(helpful_votes)=0.3333333333333333),\n Row(customer_id=128589, avg(helpful_votes)=0.0),\n Row(customer_id=52174821, avg(helpful_votes)=0.4230769230769231),\n Row(customer_id=23089281, avg(helpful_votes)=2.0),\n Row(customer_id=20127651, avg(helpful_votes)=0.0),\n Row(customer_id=2747208, avg(helpful_votes)=0.0),\n Row(customer_id=48112553, avg(helpful_votes)=1.0),\n Row(customer_id=20561488, avg(helpful_votes)=1.0),\n Row(customer_id=38434783, avg(helpful_votes)=0.0),\n Row(customer_id=35482030, avg(helpful_votes)=0.0),\n Row(customer_id=6203072, avg(helpful_votes)=0.16666666666666666),\n Row(customer_id=526432, avg(helpful_votes)=0.0),\n Row(customer_id=44348274, avg(helpful_votes)=0.0),\n Row(customer_id=3487472, avg(helpful_votes)=1.0),\n Row(customer_id=42444794, avg(helpful_votes)=0.0),\n Row(customer_id=221743, avg(helpful_votes)=1.0),\n Row(customer_id=7132679, avg(helpful_votes)=0.0),\n Row(customer_id=7255220, avg(helpful_votes)=0.0),\n Row(customer_id=17208660, avg(helpful_votes)=0.0),\n Row(customer_id=33222169, avg(helpful_votes)=0.0),\n Row(customer_id=18111082, avg(helpful_votes)=1.0),\n Row(customer_id=43605252, avg(helpful_votes)=2.3333333333333335),\n Row(customer_id=34216481, avg(helpful_votes)=0.0),\n Row(customer_id=33536995, avg(helpful_votes)=1.0),\n Row(customer_id=51843527, avg(helpful_votes)=1.0),\n Row(customer_id=1546482, avg(helpful_votes)=0.0),\n Row(customer_id=47553099, avg(helpful_votes)=0.0),\n Row(customer_id=16207116, avg(helpful_votes)=0.0),\n Row(customer_id=3480132, avg(helpful_votes)=0.0),\n Row(customer_id=135533, avg(helpful_votes)=0.0),\n Row(customer_id=26756069, avg(helpful_votes)=0.0),\n Row(customer_id=3270869, avg(helpful_votes)=0.0),\n Row(customer_id=38669914, avg(helpful_votes)=0.25),\n Row(customer_id=522797, avg(helpful_votes)=2.0),\n Row(customer_id=15462658, avg(helpful_votes)=0.0),\n Row(customer_id=7820117, avg(helpful_votes)=0.0),\n Row(customer_id=19083285, avg(helpful_votes)=0.0),\n Row(customer_id=52530382, avg(helpful_votes)=0.0),\n Row(customer_id=48489810, avg(helpful_votes)=135.0),\n Row(customer_id=1898978, avg(helpful_votes)=0.0),\n Row(customer_id=45630198, avg(helpful_votes)=0.0),\n Row(customer_id=45808229, avg(helpful_votes)=0.2),\n Row(customer_id=13447228, avg(helpful_votes)=0.0),\n Row(customer_id=34452565, avg(helpful_votes)=0.0),\n Row(customer_id=2964754, avg(helpful_votes)=0.0),\n Row(customer_id=44346993, avg(helpful_votes)=0.0),\n Row(customer_id=17123064, avg(helpful_votes)=0.0),\n Row(customer_id=47435371, avg(helpful_votes)=0.25),\n Row(customer_id=1798783, avg(helpful_votes)=0.0),\n Row(customer_id=1802136, avg(helpful_votes)=0.0),\n Row(customer_id=16038741, avg(helpful_votes)=0.0),\n Row(customer_id=38406572, avg(helpful_votes)=0.0),\n Row(customer_id=22429709, avg(helpful_votes)=0.0),\n Row(customer_id=187578, avg(helpful_votes)=0.0),\n Row(customer_id=35495935, avg(helpful_votes)=0.0),\n Row(customer_id=43684359, avg(helpful_votes)=1.0),\n Row(customer_id=5781177, avg(helpful_votes)=0.0),\n Row(customer_id=47843334, avg(helpful_votes)=0.0),\n Row(customer_id=19887358, avg(helpful_votes)=3.4),\n Row(customer_id=22107411, avg(helpful_votes)=5.25),\n Row(customer_id=192401, avg(helpful_votes)=0.0),\n Row(customer_id=45233983, avg(helpful_votes)=0.0),\n Row(customer_id=10950962, avg(helpful_votes)=0.0),\n Row(customer_id=14458451, avg(helpful_votes)=0.5),\n Row(customer_id=26799728, avg(helpful_votes)=0.0),\n Row(customer_id=28768056, avg(helpful_votes)=0.0),\n Row(customer_id=7658925, avg(helpful_votes)=5.0),\n Row(customer_id=34502724, avg(helpful_votes)=0.5),\n Row(customer_id=772333, avg(helpful_votes)=0.18181818181818182),\n Row(customer_id=47292591, avg(helpful_votes)=0.0),\n Row(customer_id=7759869, avg(helpful_votes)=0.0),\n Row(customer_id=45771996, avg(helpful_votes)=0.4),\n Row(customer_id=3409642, avg(helpful_votes)=0.0),\n Row(customer_id=7221591, avg(helpful_votes)=2.0),\n Row(customer_id=6325940, avg(helpful_votes)=0.0),\n Row(customer_id=45122090, avg(helpful_votes)=0.0),\n Row(customer_id=14863197, avg(helpful_votes)=0.0),\n Row(customer_id=42861518, avg(helpful_votes)=0.0),\n Row(customer_id=36120453, avg(helpful_votes)=0.0),\n Row(customer_id=1119124, avg(helpful_votes)=0.0),\n Row(customer_id=15245121, avg(helpful_votes)=0.0),\n Row(customer_id=33079373, avg(helpful_votes)=0.0),\n Row(customer_id=31824921, avg(helpful_votes)=0.0),\n Row(customer_id=44641463, avg(helpful_votes)=0.0),\n Row(customer_id=28440766, avg(helpful_votes)=1.0),\n Row(customer_id=25975970, avg(helpful_votes)=0.0),\n Row(customer_id=49332883, avg(helpful_votes)=0.4117647058823529),\n Row(customer_id=43272334, avg(helpful_votes)=0.1111111111111111),\n Row(customer_id=6746092, avg(helpful_votes)=0.0),\n Row(customer_id=21808354, avg(helpful_votes)=0.0),\n Row(customer_id=1642930, avg(helpful_votes)=0.0),\n Row(customer_id=6935058, avg(helpful_votes)=0.0),\n Row(customer_id=36344675, avg(helpful_votes)=0.0),\n Row(customer_id=3467585, avg(helpful_votes)=0.0),\n Row(customer_id=20686161, avg(helpful_votes)=0.0),\n Row(customer_id=41307001, avg(helpful_votes)=0.7619047619047619),\n Row(customer_id=3909205, avg(helpful_votes)=0.5),\n Row(customer_id=50237575, avg(helpful_votes)=0.25),\n Row(customer_id=23194686, avg(helpful_votes)=0.0),\n Row(customer_id=44165245, avg(helpful_votes)=0.0),\n Row(customer_id=49484328, avg(helpful_votes)=0.0),\n Row(customer_id=52198822, avg(helpful_votes)=0.5),\n Row(customer_id=158593, avg(helpful_votes)=0.0),\n Row(customer_id=22055470, avg(helpful_votes)=0.0),\n Row(customer_id=45257589, avg(helpful_votes)=0.0),\n Row(customer_id=3218155, avg(helpful_votes)=0.0),\n Row(customer_id=25865198, avg(helpful_votes)=0.0),\n Row(customer_id=19879517, avg(helpful_votes)=0.5),\n Row(customer_id=24768141, avg(helpful_votes)=0.0),\n Row(customer_id=25723637, avg(helpful_votes)=0.0),\n Row(customer_id=38756115, avg(helpful_votes)=0.0),\n Row(customer_id=24880281, avg(helpful_votes)=3.0),\n Row(customer_id=48524050, avg(helpful_votes)=0.0),\n Row(customer_id=18724091, avg(helpful_votes)=2.5),\n Row(customer_id=42194420, avg(helpful_votes)=2.3333333333333335),\n Row(customer_id=2441415, avg(helpful_votes)=0.0),\n Row(customer_id=45263631, avg(helpful_votes)=0.14285714285714285),\n Row(customer_id=11671862, avg(helpful_votes)=0.3333333333333333),\n Row(customer_id=22083068, avg(helpful_votes)=0.5),\n Row(customer_id=14076617, avg(helpful_votes)=1.0),\n Row(customer_id=7576106, avg(helpful_votes)=6.0),\n Row(customer_id=11153632, avg(helpful_votes)=0.0),\n Row(customer_id=50843047, avg(helpful_votes)=0.0),\n Row(customer_id=36369665, avg(helpful_votes)=2.0),\n Row(customer_id=49323498, avg(helpful_votes)=1.0),\n Row(customer_id=20938751, avg(helpful_votes)=0.0),\n Row(customer_id=145011, avg(helpful_votes)=0.0),\n Row(customer_id=7181080, avg(helpful_votes)=0.0),\n Row(customer_id=39182198, avg(helpful_votes)=1.0),\n Row(customer_id=18528823, avg(helpful_votes)=0.0),\n Row(customer_id=11662226, avg(helpful_votes)=0.4),\n Row(customer_id=51969126, avg(helpful_votes)=1.0),\n Row(customer_id=34286737, avg(helpful_votes)=1.0),\n Row(customer_id=1327720, avg(helpful_votes)=0.0),\n Row(customer_id=47389509, avg(helpful_votes)=0.0),\n Row(customer_id=46503499, avg(helpful_votes)=0.3333333333333333),\n Row(customer_id=19937512, avg(helpful_votes)=0.0),\n Row(customer_id=2991947, avg(helpful_votes)=1.0),\n Row(customer_id=613313, avg(helpful_votes)=0.0),\n Row(customer_id=3630205, avg(helpful_votes)=0.0),\n Row(customer_id=47803094, avg(helpful_votes)=0.0),\n Row(customer_id=10033617, avg(helpful_votes)=0.0),\n Row(customer_id=48295039, avg(helpful_votes)=31.0),\n Row(customer_id=5303937, avg(helpful_votes)=0.0),\n Row(customer_id=15855651, avg(helpful_votes)=0.0),\n Row(customer_id=38944088, avg(helpful_votes)=0.0),\n Row(customer_id=13794653, avg(helpful_votes)=2.0),\n Row(customer_id=37096773, avg(helpful_votes)=0.0),\n Row(customer_id=523496, avg(helpful_votes)=0.0),\n Row(customer_id=12471542, avg(helpful_votes)=0.0),\n Row(customer_id=49839017, avg(helpful_votes)=0.0),\n Row(customer_id=474564, avg(helpful_votes)=1.0),\n Row(customer_id=607909, avg(helpful_votes)=0.0),\n Row(customer_id=36841897, avg(helpful_votes)=0.0),\n Row(customer_id=702986, avg(helpful_votes)=0.0),\n Row(customer_id=38822017, avg(helpful_votes)=0.3333333333333333),\n Row(customer_id=16013492, avg(helpful_votes)=1.5),\n Row(customer_id=7248964, avg(helpful_votes)=0.5),\n Row(customer_id=42004731, avg(helpful_votes)=0.42857142857142855),\n Row(customer_id=51833714, avg(helpful_votes)=0.3333333333333333),\n Row(customer_id=24731688, avg(helpful_votes)=0.0),\n Row(customer_id=47514013, avg(helpful_votes)=0.0),\n Row(customer_id=25775882, avg(helpful_votes)=0.0),\n Row(customer_id=43183830, avg(helpful_votes)=0.0),\n Row(customer_id=24109146, avg(helpful_votes)=0.0),\n Row(customer_id=19738798, avg(helpful_votes)=0.0),\n Row(customer_id=11394141, avg(helpful_votes)=0.0),\n Row(customer_id=22032217, avg(helpful_votes)=0.0),\n Row(customer_id=8722494, avg(helpful_votes)=0.0),\n Row(customer_id=31965741, avg(helpful_votes)=0.0),\n Row(customer_id=15896590, avg(helpful_votes)=0.0),\n Row(customer_id=52773179, avg(helpful_votes)=0.8888888888888888),\n Row(customer_id=43346662, avg(helpful_votes)=0.0),\n Row(customer_id=12335189, avg(helpful_votes)=0.0),\n Row(customer_id=50476553, avg(helpful_votes)=0.0),\n Row(customer_id=155959, avg(helpful_votes)=0.0),\n Row(customer_id=34786193, avg(helpful_votes)=0.5),\n Row(customer_id=46317335, avg(helpful_votes)=0.0),\n Row(customer_id=1260901, avg(helpful_votes)=1.0),\n Row(customer_id=4457440, avg(helpful_votes)=0.0),\n Row(customer_id=18724744, avg(helpful_votes)=2.0),\n Row(customer_id=344392, avg(helpful_votes)=0.0),\n Row(customer_id=13578669, avg(helpful_votes)=0.5),\n Row(customer_id=30332414, avg(helpful_votes)=0.0),\n Row(customer_id=5940324, avg(helpful_votes)=0.0),\n Row(customer_id=45574631, avg(helpful_votes)=0.6),\n Row(customer_id=26807813, avg(helpful_votes)=0.0),\n Row(customer_id=5642643, avg(helpful_votes)=0.0),\n Row(customer_id=43319158, avg(helpful_votes)=0.47368421052631576),\n Row(customer_id=14629444, avg(helpful_votes)=0.5),\n Row(customer_id=17345748, avg(helpful_votes)=0.0),\n Row(customer_id=46839708, avg(helpful_votes)=0.0),\n Row(customer_id=1653460, avg(helpful_votes)=0.0),\n Row(customer_id=7665988, avg(helpful_votes)=1.25),\n Row(customer_id=133189, avg(helpful_votes)=58.0),\n Row(customer_id=754230, avg(helpful_votes)=0.0),\n Row(customer_id=12975104, avg(helpful_votes)=0.0),\n Row(customer_id=7868382, avg(helpful_votes)=0.0),\n Row(customer_id=51001478, avg(helpful_votes)=0.3333333333333333),\n Row(customer_id=4882455, avg(helpful_votes)=13.5),\n Row(customer_id=32362178, avg(helpful_votes)=5.0),\n Row(customer_id=1845100, avg(helpful_votes)=0.3333333333333333),\n Row(customer_id=25972004, avg(helpful_votes)=0.0),\n Row(customer_id=10864911, avg(helpful_votes)=0.0),\n Row(customer_id=131213, avg(helpful_votes)=0.0),\n Row(customer_id=42653106, avg(helpful_votes)=3.0),\n Row(customer_id=7768444, avg(helpful_votes)=0.5),\n Row(customer_id=5554443, avg(helpful_votes)=9.0),\n Row(customer_id=21855780, avg(helpful_votes)=0.0),\n Row(customer_id=48051357, avg(helpful_votes)=0.0),\n Row(customer_id=27568706, avg(helpful_votes)=0.0),\n Row(customer_id=34688054, avg(helpful_votes)=0.0),\n Row(customer_id=28550743, avg(helpful_votes)=1.0),\n Row(customer_id=51714982, avg(helpful_votes)=0.3333333333333333),\n Row(customer_id=27220169, avg(helpful_votes)=0.0),\n Row(customer_id=31741443, avg(helpful_votes)=0.0),\n Row(customer_id=50310482, avg(helpful_votes)=0.0),\n Row(customer_id=42580818, avg(helpful_votes)=0.0),\n Row(customer_id=45538634, avg(helpful_votes)=0.0),\n Row(customer_id=27095642, avg(helpful_votes)=0.0),\n Row(customer_id=27646354, avg(helpful_votes)=0.0),\n Row(customer_id=672106, avg(helpful_votes)=0.0),\n Row(customer_id=23416716, avg(helpful_votes)=0.0),\n Row(customer_id=25823309, avg(helpful_votes)=0.0),\n Row(customer_id=18412956, avg(helpful_votes)=1.0),\n Row(customer_id=13303618, avg(helpful_votes)=0.5),\n Row(customer_id=25746117, avg(helpful_votes)=1.0),\n Row(customer_id=31432064, avg(helpful_votes)=0.5),\n Row(customer_id=1129920, avg(helpful_votes)=0.0),\n Row(customer_id=19387324, avg(helpful_votes)=0.0),\n Row(customer_id=49223298, avg(helpful_votes)=7.0),\n Row(customer_id=19362432, avg(helpful_votes)=0.0),\n Row(customer_id=43801338, avg(helpful_votes)=0.0),\n Row(customer_id=10240189, avg(helpful_votes)=1.0),\n Row(customer_id=5204898, avg(helpful_votes)=1.0),\n Row(customer_id=42287085, avg(helpful_votes)=0.0),\n Row(customer_id=32509646, avg(helpful_votes)=0.6),\n Row(customer_id=14382696, avg(helpful_votes)=1.0),\n Row(customer_id=1441836, avg(helpful_votes)=0.0),\n Row(customer_id=41102463, avg(helpful_votes)=0.0),\n Row(customer_id=43074682, avg(helpful_votes)=0.0),\n Row(customer_id=424374, avg(helpful_votes)=3.6666666666666665),\n Row(customer_id=4936874, avg(helpful_votes)=0.0),\n Row(customer_id=15234640, avg(helpful_votes)=0.5),\n Row(customer_id=21133851, avg(helpful_votes)=4.5),\n Row(customer_id=47420517, avg(helpful_votes)=0.0),\n Row(customer_id=21962029, avg(helpful_votes)=0.0),\n Row(customer_id=3114353, avg(helpful_votes)=0.0),\n Row(customer_id=11101012, avg(helpful_votes)=0.0),\n Row(customer_id=46794408, avg(helpful_votes)=0.0),\n Row(customer_id=10942233, avg(helpful_votes)=0.0),\n Row(customer_id=12581806, avg(helpful_votes)=0.5),\n Row(customer_id=45012985, avg(helpful_votes)=1.9259259259259258),\n Row(customer_id=1070131, avg(helpful_votes)=0.0),\n Row(customer_id=11776223, avg(helpful_votes)=0.0),\n Row(customer_id=11082687, avg(helpful_votes)=0.0),\n Row(customer_id=9849932, avg(helpful_votes)=0.0),\n Row(customer_id=953769, avg(helpful_votes)=0.0),\n Row(customer_id=16950954, avg(helpful_votes)=0.75),\n Row(customer_id=39996287, avg(helpful_votes)=0.3333333333333333),\n Row(customer_id=16708144, avg(helpful_votes)=0.3333333333333333),\n Row(customer_id=211048, avg(helpful_votes)=0.0),\n Row(customer_id=32466409, avg(helpful_votes)=1.0),\n Row(customer_id=43142727, avg(helpful_votes)=1.0),\n Row(customer_id=40682566, avg(helpful_votes)=8.5),\n Row(customer_id=32776665, avg(helpful_votes)=0.0),\n Row(customer_id=17592225, avg(helpful_votes)=0.0),\n Row(customer_id=10483208, avg(helpful_votes)=0.4),\n Row(customer_id=20201961, avg(helpful_votes)=0.0),\n Row(customer_id=32695269, avg(helpful_votes)=0.0),\n Row(customer_id=10197615, avg(helpful_votes)=1.0),\n Row(customer_id=16332001, avg(helpful_votes)=0.0),\n Row(customer_id=4935084, avg(helpful_votes)=0.0),\n Row(customer_id=43430967, avg(helpful_votes)=0.0),\n Row(customer_id=42130853, avg(helpful_votes)=0.5),\n Row(customer_id=27954895, avg(helpful_votes)=0.0),\n Row(customer_id=16562832, avg(helpful_votes)=0.0),\n Row(customer_id=48397697, avg(helpful_votes)=1.0),\n Row(customer_id=20142225, avg(helpful_votes)=0.0),\n Row(customer_id=9615886, avg(helpful_votes)=0.6666666666666666),\n Row(customer_id=860591, avg(helpful_votes)=0.0),\n Row(customer_id=11986965, avg(helpful_votes)=0.6666666666666666),\n Row(customer_id=48611534, avg(helpful_votes)=0.0),\n Row(customer_id=43897055, avg(helpful_votes)=2.0),\n Row(customer_id=21782950, avg(helpful_votes)=0.0),\n Row(customer_id=42946807, avg(helpful_votes)=0.0),\n Row(customer_id=47519344, avg(helpful_votes)=0.0),\n Row(customer_id=20760496, avg(helpful_votes)=0.0),\n Row(customer_id=9236570, avg(helpful_votes)=0.0),\n Row(customer_id=6342566, avg(helpful_votes)=0.0),\n Row(customer_id=14989908, avg(helpful_votes)=1.0),\n Row(customer_id=15125398, avg(helpful_votes)=0.0),\n Row(customer_id=17796016, avg(helpful_votes)=0.0),\n Row(customer_id=43279651, avg(helpful_votes)=0.0),\n Row(customer_id=22046034, avg(helpful_votes)=0.6666666666666666),\n Row(customer_id=1446924, avg(helpful_votes)=0.0),\n Row(customer_id=30024215, avg(helpful_votes)=0.16666666666666666),\n Row(customer_id=10434476, avg(helpful_votes)=1.2),\n Row(customer_id=8657514, avg(helpful_votes)=0.5),\n Row(customer_id=42238556, avg(helpful_votes)=4.0),\n Row(customer_id=9891143, avg(helpful_votes)=2.0),\n Row(customer_id=7281573, avg(helpful_votes)=0.0),\n Row(customer_id=40994102, avg(helpful_votes)=0.0),\n Row(customer_id=46041467, avg(helpful_votes)=0.0),\n Row(customer_id=22548286, avg(helpful_votes)=0.0),\n Row(customer_id=42991612, avg(helpful_votes)=1.0),\n Row(customer_id=32879728, avg(helpful_votes)=0.3333333333333333),\n Row(customer_id=212727, avg(helpful_votes)=0.0),\n Row(customer_id=13066646, avg(helpful_votes)=0.0),\n Row(customer_id=40434342, avg(helpful_votes)=1.0),\n Row(customer_id=52021773, avg(helpful_votes)=0.0),\n Row(customer_id=49483181, avg(helpful_votes)=1.1428571428571428),\n Row(customer_id=10511731, avg(helpful_votes)=0.0),\n Row(customer_id=10931374, avg(helpful_votes)=0.0),\n Row(customer_id=46729916, avg(helpful_votes)=0.0),\n Row(customer_id=45156151, avg(helpful_votes)=0.0),\n Row(customer_id=43479132, avg(helpful_votes)=0.0),\n Row(customer_id=10118775, avg(helpful_votes)=5.0),\n Row(customer_id=2248728, avg(helpful_votes)=0.0),\n Row(customer_id=283456, avg(helpful_votes)=0.3333333333333333),\n Row(customer_id=20157057, avg(helpful_votes)=0.0),\n Row(customer_id=46915638, avg(helpful_votes)=0.0),\n Row(customer_id=50938485, avg(helpful_votes)=4.333333333333333),\n Row(customer_id=12289693, avg(helpful_votes)=0.0),\n Row(customer_id=36201418, avg(helpful_votes)=0.0),\n Row(customer_id=15271602, avg(helpful_votes)=0.0),\n Row(customer_id=38679000, avg(helpful_votes)=0.3333333333333333),\n Row(customer_id=51153722, avg(helpful_votes)=0.0),\n Row(customer_id=10833592, avg(helpful_votes)=0.0),\n Row(customer_id=14289153, avg(helpful_votes)=0.0),\n Row(customer_id=42235989, avg(helpful_votes)=0.0),\n Row(customer_id=18194007, avg(helpful_votes)=1.0),\n Row(customer_id=4665701, avg(helpful_votes)=0.0),\n Row(customer_id=14595176, avg(helpful_votes)=1.0),\n Row(customer_id=28629381, avg(helpful_votes)=0.0),\n Row(customer_id=1715276, avg(helpful_votes)=0.0),\n Row(customer_id=22807485, avg(helpful_votes)=0.0),\n Row(customer_id=44626128, avg(helpful_votes)=0.25),\n Row(customer_id=44517822, avg(helpful_votes)=0.0),\n Row(customer_id=18288927, avg(helpful_votes)=0.3333333333333333),\n Row(customer_id=11418816, avg(helpful_votes)=0.0),\n Row(customer_id=20676978, avg(helpful_votes)=1.0),\n Row(customer_id=18284840, avg(helpful_votes)=0.2),\n Row(customer_id=13250276, avg(helpful_votes)=2.4545454545454546),\n Row(customer_id=19369914, avg(helpful_votes)=2.5),\n Row(customer_id=14538311, avg(helpful_votes)=0.5),\n Row(customer_id=15256207, avg(helpful_votes)=1.0),\n Row(customer_id=13611445, avg(helpful_votes)=1.0),\n Row(customer_id=18681995, avg(helpful_votes)=0.0),\n Row(customer_id=21414567, avg(helpful_votes)=0.0),\n Row(customer_id=2274439, avg(helpful_votes)=0.3333333333333333),\n Row(customer_id=4523788, avg(helpful_votes)=0.5),\n Row(customer_id=31846650, avg(helpful_votes)=0.0),\n Row(customer_id=871118, avg(helpful_votes)=7.0),\n Row(customer_id=3821823, avg(helpful_votes)=0.0),\n Row(customer_id=48799509, avg(helpful_votes)=0.0),\n Row(customer_id=12519358, avg(helpful_votes)=0.0),\n Row(customer_id=32934444, avg(helpful_votes)=0.0),\n Row(customer_id=18465841, avg(helpful_votes)=0.0),\n Row(customer_id=7265044, avg(helpful_votes)=0.5),\n Row(customer_id=45814560, avg(helpful_votes)=0.0),\n Row(customer_id=50485722, avg(helpful_votes)=0.5),\n Row(customer_id=42775231, avg(helpful_votes)=2.0),\n Row(customer_id=43164123, avg(helpful_votes)=0.0),\n Row(customer_id=14533884, avg(helpful_votes)=1.0),\n Row(customer_id=49280644, avg(helpful_votes)=3.6),\n Row(customer_id=20623904, avg(helpful_votes)=0.0),\n Row(customer_id=432399, avg(helpful_votes)=0.14285714285714285),\n Row(customer_id=34117729, avg(helpful_votes)=0.0),\n Row(customer_id=22338610, avg(helpful_votes)=0.0),\n Row(customer_id=14572483, avg(helpful_votes)=0.0),\n Row(customer_id=17532236, avg(helpful_votes)=0.0),\n Row(customer_id=33624636, avg(helpful_votes)=0.0),\n Row(customer_id=12407095, avg(helpful_votes)=0.0),\n Row(customer_id=5350740, avg(helpful_votes)=1.5),\n Row(customer_id=18462947, avg(helpful_votes)=0.0),\n Row(customer_id=17713665, avg(helpful_votes)=0.0),\n ...]"
     ]
    }
   ],
   "source": [
    "sdf.groupBy('customer_id').count().show()\n",
    "sdf.groupBy('customer_id').agg({'helpful_votes': 'mean'}).collect()"
   ]
  },
  {
   "cell_type": "code",
   "execution_count": 0,
   "metadata": {
    "application/vnd.databricks.v1+cell": {
     "cellMetadata": {
      "byteLimit": 2048000,
      "rowLimit": 10000
     },
     "inputWidgets": {},
     "nuid": "6c674fd4-fbc3-4f24-96df-db57160b9a13",
     "showTitle": false,
     "title": ""
    }
   },
   "outputs": [
    {
     "output_type": "stream",
     "name": "stdout",
     "output_type": "stream",
     "text": [
      "root\n |-- marketplace: string (nullable = true)\n |-- customer_id: integer (nullable = true)\n |-- review_id: string (nullable = true)\n |-- product_id: string (nullable = false)\n |-- product_parent: integer (nullable = true)\n |-- product_title: string (nullable = true)\n |-- product_category: string (nullable = true)\n |-- star_rating: string (nullable = true)\n |-- helpful_votes: integer (nullable = true)\n |-- total_votes: integer (nullable = true)\n |-- vine: string (nullable = true)\n |-- verified_purchase: string (nullable = true)\n |-- review_headline: string (nullable = true)\n |-- review_body: string (nullable = true)\n |-- review_date: date (nullable = true)\n\n"
     ]
    }
   ],
   "source": [
    "sdf.printSchema()"
   ]
  },
  {
   "cell_type": "code",
   "execution_count": 0,
   "metadata": {
    "application/vnd.databricks.v1+cell": {
     "cellMetadata": {
      "byteLimit": 2048000,
      "rowLimit": 10000
     },
     "inputWidgets": {},
     "nuid": "30776b92-7bd1-4dcf-91b9-24c277048251",
     "showTitle": false,
     "title": ""
    }
   },
   "outputs": [
    {
     "output_type": "stream",
     "name": "stdout",
     "output_type": "stream",
     "text": [
      "Out[18]: 5115666"
     ]
    }
   ],
   "source": [
    "sdf.count()"
   ]
  },
  {
   "cell_type": "code",
   "execution_count": 0,
   "metadata": {
    "application/vnd.databricks.v1+cell": {
     "cellMetadata": {
      "byteLimit": 2048000,
      "rowLimit": 10000
     },
     "inputWidgets": {},
     "nuid": "1ab0932c-81c3-4e2f-ac74-44ef790eecf6",
     "showTitle": false,
     "title": ""
    }
   },
   "outputs": [],
   "source": [
    "sdf = sdf.sample(False, 0.25)"
   ]
  },
  {
   "cell_type": "code",
   "execution_count": 0,
   "metadata": {
    "application/vnd.databricks.v1+cell": {
     "cellMetadata": {
      "byteLimit": 2048000,
      "rowLimit": 10000
     },
     "inputWidgets": {},
     "nuid": "4f91d05e-bf0c-4fe5-a21a-c70a5651c6de",
     "showTitle": false,
     "title": ""
    }
   },
   "outputs": [
    {
     "output_type": "stream",
     "name": "stdout",
     "output_type": "stream",
     "text": [
      "+-------+-----------+--------------------+--------------+----------+-------------------+--------------------+----------------+-----------------+------------------+------------------+-------+-----------------+--------------------+--------------------+\n|summary|marketplace|         customer_id|     review_id|product_id|     product_parent|       product_title|product_category|      star_rating|     helpful_votes|       total_votes|   vine|verified_purchase|     review_headline|         review_body|\n+-------+-----------+--------------------+--------------+----------+-------------------+--------------------+----------------+-----------------+------------------+------------------+-------+-----------------+--------------------+--------------------+\n|  count|    1277358|             1277358|       1277358|   1277358|            1277358|             1277358|         1277312|          1277312|           1277312|           1277312|1277312|          1277312|             1277311|             1277134|\n|   mean|       null|2.6263826878294103E7|          null|      null|5.041791497294948E8|            Infinity|            null|4.186295126014631|1.7166886398937768|2.1703303499849684|   null|             null|                 NaN|           444450.44|\n| stddev|       null|1.5549372338079251E7|          null|      null|2.876153019962614E8|                 NaN|            null|1.300010593334688| 16.99359656064304|18.158832918191813|   null|             null|                 NaN|  2222220.9501083046|\n|    min|         US|               10009|R10005TXQQGAV3|      Good|               5230|!!! 2 NEW Maybell...|          Beauty|                1|                 0|                 0|      N|                N|              \u001A\u001A\u001A\u001A\u001A\u001A|\u001AI loved this pro...|\n|    25%|       null|            13292056|          null|      null|          254097723|               55.06|            null|              4.0|                 0|                 0|   null|             null|                 3.5|                 1.0|\n|    50%|       null|            24229824|          null|      null|          511649453|           5564597.0|            null|              5.0|                 0|                 0|   null|             null|                 5.0|                 1.0|\n|    75%|       null|            40944792|          null|      null|          750165337|            Infinity|            null|              5.0|                 1|                 1|   null|             null|                52.0|                 1.0|\n|    max|         US|            53096518| RZZZVGNL8I8QO|        Ok|          999996889|❤️ Lover's Kit ❤️...|          Beauty|                5|              5789|              5895|      Y|                Y|🚫 A complete was...|🚨🚨🚨🚨This not ...|\n+-------+-----------+--------------------+--------------+----------+-------------------+--------------------+----------------+-----------------+------------------+------------------+-------+-----------------+--------------------+--------------------+\n\n"
     ]
    }
   ],
   "source": [
    "sdf.summary().show()"
   ]
  },
  {
   "cell_type": "code",
   "execution_count": 0,
   "metadata": {
    "application/vnd.databricks.v1+cell": {
     "cellMetadata": {
      "byteLimit": 2048000,
      "rowLimit": 10000
     },
     "inputWidgets": {},
     "nuid": "cf9a0f0b-66d9-49c8-9d51-c4cb95f9929d",
     "showTitle": false,
     "title": ""
    }
   },
   "outputs": [
    {
     "output_type": "stream",
     "name": "stdout",
     "output_type": "stream",
     "text": [
      "+-------+-----------------+------------------+------------------+\n|summary|      star_rating|     helpful_votes|       total_votes|\n+-------+-----------------+------------------+------------------+\n|  count|          1277312|           1277312|           1277312|\n|    min|                1|                 0|                 0|\n|    max|                5|              5789|              5895|\n|   mean|4.186295126014631|1.7166886398937768|2.1703303499849684|\n+-------+-----------------+------------------+------------------+\n\n"
     ]
    }
   ],
   "source": [
    "sdf.select(\"star_rating\", \"helpful_votes\", \"total_votes\").summary(\"count\", \"min\", \"max\", \"mean\").show()"
   ]
  },
  {
   "cell_type": "code",
   "execution_count": 0,
   "metadata": {
    "application/vnd.databricks.v1+cell": {
     "cellMetadata": {
      "byteLimit": 2048000,
      "rowLimit": 10000
     },
     "inputWidgets": {},
     "nuid": "f692f1fa-3397-4774-96f1-a4472dca7be6",
     "showTitle": false,
     "title": ""
    }
   },
   "outputs": [
    {
     "output_type": "stream",
     "name": "stdout",
     "output_type": "stream",
     "text": [
      "+-------+--------------------+--------------------+\n|summary|     review_headline|         review_body|\n+-------+--------------------+--------------------+\n|  count|             1277311|             1277134|\n|    min|              \u001A\u001A\u001A\u001A\u001A\u001A|\u001AI loved this pro...|\n|    max|🚫 A complete was...|🚨🚨🚨🚨This not ...|\n+-------+--------------------+--------------------+\n\n"
     ]
    }
   ],
   "source": [
    "sdf.select(\"review_headline\", \"review_body\").summary(\"count\", \"min\", \"max\").show()"
   ]
  },
  {
   "cell_type": "code",
   "execution_count": 0,
   "metadata": {
    "application/vnd.databricks.v1+cell": {
     "cellMetadata": {
      "byteLimit": 2048000,
      "rowLimit": 10000
     },
     "inputWidgets": {},
     "nuid": "a65b6961-d937-49f8-87b3-219682fd1d20",
     "showTitle": false,
     "title": ""
    }
   },
   "outputs": [
    {
     "output_type": "stream",
     "name": "stdout",
     "output_type": "stream",
     "text": [
      "+-----------+-----------+\n|star_rating|review_body|\n+-----------+-----------+\n|    1277134|    1277134|\n+-----------+-----------+\n\n"
     ]
    }
   ],
   "source": [
    "from pyspark.sql.functions import col, count, when, isnull\n",
    "\n",
    "sdf.select([count(when(~isnull(col(c)), c)).alias(c) for c in [\"star_rating\", \"review_body\"]]).show()"
   ]
  },
  {
   "cell_type": "code",
   "execution_count": 0,
   "metadata": {
    "application/vnd.databricks.v1+cell": {
     "cellMetadata": {
      "byteLimit": 2048000,
      "rowLimit": 10000
     },
     "inputWidgets": {},
     "nuid": "c9b72109-6bda-4747-9536-11fa52d3e170",
     "showTitle": false,
     "title": ""
    }
   },
   "outputs": [],
   "source": [
    "sdf = sdf.na.drop(subset=[\"star_rating\", \"review_body\"])"
   ]
  },
  {
   "cell_type": "code",
   "execution_count": 0,
   "metadata": {
    "application/vnd.databricks.v1+cell": {
     "cellMetadata": {
      "byteLimit": 2048000,
      "rowLimit": 10000
     },
     "inputWidgets": {},
     "nuid": "6f61b917-82d0-4496-bc3b-c31aa43ed9a9",
     "showTitle": false,
     "title": ""
    }
   },
   "outputs": [
    {
     "output_type": "stream",
     "name": "stdout",
     "output_type": "stream",
     "text": [
      "+-------+---------------------+--------------------+\n|summary|clean_review_headline|   clean_review_body|\n+-------+---------------------+--------------------+\n|  count|              1277133|             1277134|\n|    min|                     |                    |\n|    max| ~~~~ GET STOKED~~...|~~~~~~~~~~~~~~~~~...|\n+-------+---------------------+--------------------+\n\n"
     ]
    }
   ],
   "source": [
    "def ascii_only(mystring):\n",
    "    if mystring:\n",
    "        return mystring.encode('ascii', 'ignore').decode('ascii')\n",
    "    else:\n",
    "        return None\n",
    "\n",
    "ascii_udf = udf(ascii_only)\n",
    "sdf = sdf.withColumn(\"clean_review_headline\", ascii_udf('review_headline'))\n",
    "sdf = sdf.withColumn(\"clean_review_body\", ascii_udf('review_body'))\n",
    "sdf.select(\"clean_review_headline\", \"clean_review_body\").summary(\"count\", \"min\", \"max\").show()"
   ]
  },
  {
   "cell_type": "code",
   "execution_count": 0,
   "metadata": {
    "application/vnd.databricks.v1+cell": {
     "cellMetadata": {
      "byteLimit": 2048000,
      "rowLimit": 10000
     },
     "inputWidgets": {},
     "nuid": "77ec154a-4245-4f8a-b20a-e23f2e0a5553",
     "showTitle": false,
     "title": ""
    }
   },
   "outputs": [
    {
     "output_type": "stream",
     "name": "stdout",
     "output_type": "stream",
     "text": [
      "root\n |-- marketplace: string (nullable = true)\n |-- customer_id: integer (nullable = true)\n |-- review_id: string (nullable = true)\n |-- product_id: string (nullable = false)\n |-- product_parent: integer (nullable = true)\n |-- product_title: string (nullable = true)\n |-- product_category: string (nullable = true)\n |-- star_rating: string (nullable = true)\n |-- helpful_votes: integer (nullable = true)\n |-- total_votes: integer (nullable = true)\n |-- vine: string (nullable = true)\n |-- verified_purchase: string (nullable = true)\n |-- review_headline: string (nullable = true)\n |-- review_body: string (nullable = true)\n |-- review_date: date (nullable = true)\n |-- clean_review_headline: string (nullable = true)\n |-- clean_review_body: string (nullable = true)\n\n"
     ]
    }
   ],
   "source": [
    "sdf.printSchema()"
   ]
  },
  {
   "cell_type": "code",
   "execution_count": 0,
   "metadata": {
    "application/vnd.databricks.v1+cell": {
     "cellMetadata": {
      "byteLimit": 2048000,
      "rowLimit": 10000
     },
     "inputWidgets": {},
     "nuid": "de82507a-49bd-4da9-a08e-9c2a7f869de9",
     "showTitle": false,
     "title": ""
    }
   },
   "outputs": [],
   "source": [
    "sdf = sdf.drop(\"product_parent\", \"vine\")"
   ]
  },
  {
   "cell_type": "code",
   "execution_count": 0,
   "metadata": {
    "application/vnd.databricks.v1+cell": {
     "cellMetadata": {
      "byteLimit": 2048000,
      "rowLimit": 10000
     },
     "inputWidgets": {},
     "nuid": "37cbafd0-d03b-4f8d-bb84-54298048dd23",
     "showTitle": false,
     "title": ""
    }
   },
   "outputs": [
    {
     "output_type": "stream",
     "name": "stdout",
     "output_type": "stream",
     "text": [
      "root\n |-- marketplace: string (nullable = true)\n |-- customer_id: integer (nullable = true)\n |-- review_id: string (nullable = true)\n |-- product_id: string (nullable = false)\n |-- product_title: string (nullable = true)\n |-- product_category: string (nullable = true)\n |-- star_rating: string (nullable = true)\n |-- helpful_votes: integer (nullable = true)\n |-- total_votes: integer (nullable = true)\n |-- verified_purchase: string (nullable = true)\n |-- review_headline: string (nullable = true)\n |-- review_body: string (nullable = true)\n |-- review_date: date (nullable = true)\n |-- clean_review_headline: string (nullable = true)\n |-- clean_review_body: string (nullable = true)\n\n"
     ]
    }
   ],
   "source": [
    "sdf.printSchema()"
   ]
  },
  {
   "cell_type": "code",
   "execution_count": 0,
   "metadata": {
    "application/vnd.databricks.v1+cell": {
     "cellMetadata": {
      "byteLimit": 2048000,
      "rowLimit": 10000
     },
     "inputWidgets": {},
     "nuid": "7042acfd-3840-40f4-97d8-be139baa5d70",
     "showTitle": false,
     "title": ""
    }
   },
   "outputs": [
    {
     "output_type": "display_data",
     "data": {
      "text/plain": [
       "\u001B[0;31m---------------------------------------------------------------------------\u001B[0m\n",
       "\u001B[0;31mAnalysisException\u001B[0m                         Traceback (most recent call last)\n",
       "File \u001B[0;32m<command-1928608511546478>:2\u001B[0m\n",
       "\u001B[1;32m      1\u001B[0m output_file_path\u001B[38;5;241m=\u001B[39m\u001B[38;5;124m\"\u001B[39m\u001B[38;5;124ms3://my-bigdata-project-sa/raw/cleaned_amazon_reviews_us_Beauty_v1_00.parquet\u001B[39m\u001B[38;5;124m\"\u001B[39m\n",
       "\u001B[0;32m----> 2\u001B[0m sdf\u001B[38;5;241m.\u001B[39mwrite\u001B[38;5;241m.\u001B[39mparquet(output_file_path)\n",
       "\n",
       "File \u001B[0;32m/databricks/spark/python/pyspark/instrumentation_utils.py:48\u001B[0m, in \u001B[0;36m_wrap_function.<locals>.wrapper\u001B[0;34m(*args, **kwargs)\u001B[0m\n",
       "\u001B[1;32m     46\u001B[0m start \u001B[38;5;241m=\u001B[39m time\u001B[38;5;241m.\u001B[39mperf_counter()\n",
       "\u001B[1;32m     47\u001B[0m \u001B[38;5;28;01mtry\u001B[39;00m:\n",
       "\u001B[0;32m---> 48\u001B[0m     res \u001B[38;5;241m=\u001B[39m \u001B[43mfunc\u001B[49m\u001B[43m(\u001B[49m\u001B[38;5;241;43m*\u001B[39;49m\u001B[43margs\u001B[49m\u001B[43m,\u001B[49m\u001B[43m \u001B[49m\u001B[38;5;241;43m*\u001B[39;49m\u001B[38;5;241;43m*\u001B[39;49m\u001B[43mkwargs\u001B[49m\u001B[43m)\u001B[49m\n",
       "\u001B[1;32m     49\u001B[0m     logger\u001B[38;5;241m.\u001B[39mlog_success(\n",
       "\u001B[1;32m     50\u001B[0m         module_name, class_name, function_name, time\u001B[38;5;241m.\u001B[39mperf_counter() \u001B[38;5;241m-\u001B[39m start, signature\n",
       "\u001B[1;32m     51\u001B[0m     )\n",
       "\u001B[1;32m     52\u001B[0m     \u001B[38;5;28;01mreturn\u001B[39;00m res\n",
       "\n",
       "File \u001B[0;32m/databricks/spark/python/pyspark/sql/readwriter.py:1655\u001B[0m, in \u001B[0;36mDataFrameWriter.parquet\u001B[0;34m(self, path, mode, partitionBy, compression)\u001B[0m\n",
       "\u001B[1;32m   1653\u001B[0m     \u001B[38;5;28mself\u001B[39m\u001B[38;5;241m.\u001B[39mpartitionBy(partitionBy)\n",
       "\u001B[1;32m   1654\u001B[0m \u001B[38;5;28mself\u001B[39m\u001B[38;5;241m.\u001B[39m_set_opts(compression\u001B[38;5;241m=\u001B[39mcompression)\n",
       "\u001B[0;32m-> 1655\u001B[0m \u001B[38;5;28;43mself\u001B[39;49m\u001B[38;5;241;43m.\u001B[39;49m\u001B[43m_jwrite\u001B[49m\u001B[38;5;241;43m.\u001B[39;49m\u001B[43mparquet\u001B[49m\u001B[43m(\u001B[49m\u001B[43mpath\u001B[49m\u001B[43m)\u001B[49m\n",
       "\n",
       "File \u001B[0;32m/databricks/spark/python/lib/py4j-0.10.9.5-src.zip/py4j/java_gateway.py:1321\u001B[0m, in \u001B[0;36mJavaMember.__call__\u001B[0;34m(self, *args)\u001B[0m\n",
       "\u001B[1;32m   1315\u001B[0m command \u001B[38;5;241m=\u001B[39m proto\u001B[38;5;241m.\u001B[39mCALL_COMMAND_NAME \u001B[38;5;241m+\u001B[39m\\\n",
       "\u001B[1;32m   1316\u001B[0m     \u001B[38;5;28mself\u001B[39m\u001B[38;5;241m.\u001B[39mcommand_header \u001B[38;5;241m+\u001B[39m\\\n",
       "\u001B[1;32m   1317\u001B[0m     args_command \u001B[38;5;241m+\u001B[39m\\\n",
       "\u001B[1;32m   1318\u001B[0m     proto\u001B[38;5;241m.\u001B[39mEND_COMMAND_PART\n",
       "\u001B[1;32m   1320\u001B[0m answer \u001B[38;5;241m=\u001B[39m \u001B[38;5;28mself\u001B[39m\u001B[38;5;241m.\u001B[39mgateway_client\u001B[38;5;241m.\u001B[39msend_command(command)\n",
       "\u001B[0;32m-> 1321\u001B[0m return_value \u001B[38;5;241m=\u001B[39m \u001B[43mget_return_value\u001B[49m\u001B[43m(\u001B[49m\n",
       "\u001B[1;32m   1322\u001B[0m \u001B[43m    \u001B[49m\u001B[43manswer\u001B[49m\u001B[43m,\u001B[49m\u001B[43m \u001B[49m\u001B[38;5;28;43mself\u001B[39;49m\u001B[38;5;241;43m.\u001B[39;49m\u001B[43mgateway_client\u001B[49m\u001B[43m,\u001B[49m\u001B[43m \u001B[49m\u001B[38;5;28;43mself\u001B[39;49m\u001B[38;5;241;43m.\u001B[39;49m\u001B[43mtarget_id\u001B[49m\u001B[43m,\u001B[49m\u001B[43m \u001B[49m\u001B[38;5;28;43mself\u001B[39;49m\u001B[38;5;241;43m.\u001B[39;49m\u001B[43mname\u001B[49m\u001B[43m)\u001B[49m\n",
       "\u001B[1;32m   1324\u001B[0m \u001B[38;5;28;01mfor\u001B[39;00m temp_arg \u001B[38;5;129;01min\u001B[39;00m temp_args:\n",
       "\u001B[1;32m   1325\u001B[0m     temp_arg\u001B[38;5;241m.\u001B[39m_detach()\n",
       "\n",
       "File \u001B[0;32m/databricks/spark/python/pyspark/errors/exceptions.py:234\u001B[0m, in \u001B[0;36mcapture_sql_exception.<locals>.deco\u001B[0;34m(*a, **kw)\u001B[0m\n",
       "\u001B[1;32m    230\u001B[0m converted \u001B[38;5;241m=\u001B[39m convert_exception(e\u001B[38;5;241m.\u001B[39mjava_exception)\n",
       "\u001B[1;32m    231\u001B[0m \u001B[38;5;28;01mif\u001B[39;00m \u001B[38;5;129;01mnot\u001B[39;00m \u001B[38;5;28misinstance\u001B[39m(converted, UnknownException):\n",
       "\u001B[1;32m    232\u001B[0m     \u001B[38;5;66;03m# Hide where the exception came from that shows a non-Pythonic\u001B[39;00m\n",
       "\u001B[1;32m    233\u001B[0m     \u001B[38;5;66;03m# JVM exception message.\u001B[39;00m\n",
       "\u001B[0;32m--> 234\u001B[0m     \u001B[38;5;28;01mraise\u001B[39;00m converted \u001B[38;5;28;01mfrom\u001B[39;00m \u001B[38;5;28mNone\u001B[39m\n",
       "\u001B[1;32m    235\u001B[0m \u001B[38;5;28;01melse\u001B[39;00m:\n",
       "\u001B[1;32m    236\u001B[0m     \u001B[38;5;28;01mraise\u001B[39;00m\n",
       "\n",
       "\u001B[0;31mAnalysisException\u001B[0m: Path s3://my-bigdata-project-sa/raw/cleaned_amazon_reviews_us_Beauty_v1_00.parquet already exists."
      ]
     },
     "metadata": {
      "application/vnd.databricks.v1+output": {
       "arguments": {},
       "data": "\u001B[0;31m---------------------------------------------------------------------------\u001B[0m\n\u001B[0;31mAnalysisException\u001B[0m                         Traceback (most recent call last)\nFile \u001B[0;32m<command-1928608511546478>:2\u001B[0m\n\u001B[1;32m      1\u001B[0m output_file_path\u001B[38;5;241m=\u001B[39m\u001B[38;5;124m\"\u001B[39m\u001B[38;5;124ms3://my-bigdata-project-sa/raw/cleaned_amazon_reviews_us_Beauty_v1_00.parquet\u001B[39m\u001B[38;5;124m\"\u001B[39m\n\u001B[0;32m----> 2\u001B[0m sdf\u001B[38;5;241m.\u001B[39mwrite\u001B[38;5;241m.\u001B[39mparquet(output_file_path)\n\nFile \u001B[0;32m/databricks/spark/python/pyspark/instrumentation_utils.py:48\u001B[0m, in \u001B[0;36m_wrap_function.<locals>.wrapper\u001B[0;34m(*args, **kwargs)\u001B[0m\n\u001B[1;32m     46\u001B[0m start \u001B[38;5;241m=\u001B[39m time\u001B[38;5;241m.\u001B[39mperf_counter()\n\u001B[1;32m     47\u001B[0m \u001B[38;5;28;01mtry\u001B[39;00m:\n\u001B[0;32m---> 48\u001B[0m     res \u001B[38;5;241m=\u001B[39m \u001B[43mfunc\u001B[49m\u001B[43m(\u001B[49m\u001B[38;5;241;43m*\u001B[39;49m\u001B[43margs\u001B[49m\u001B[43m,\u001B[49m\u001B[43m \u001B[49m\u001B[38;5;241;43m*\u001B[39;49m\u001B[38;5;241;43m*\u001B[39;49m\u001B[43mkwargs\u001B[49m\u001B[43m)\u001B[49m\n\u001B[1;32m     49\u001B[0m     logger\u001B[38;5;241m.\u001B[39mlog_success(\n\u001B[1;32m     50\u001B[0m         module_name, class_name, function_name, time\u001B[38;5;241m.\u001B[39mperf_counter() \u001B[38;5;241m-\u001B[39m start, signature\n\u001B[1;32m     51\u001B[0m     )\n\u001B[1;32m     52\u001B[0m     \u001B[38;5;28;01mreturn\u001B[39;00m res\n\nFile \u001B[0;32m/databricks/spark/python/pyspark/sql/readwriter.py:1655\u001B[0m, in \u001B[0;36mDataFrameWriter.parquet\u001B[0;34m(self, path, mode, partitionBy, compression)\u001B[0m\n\u001B[1;32m   1653\u001B[0m     \u001B[38;5;28mself\u001B[39m\u001B[38;5;241m.\u001B[39mpartitionBy(partitionBy)\n\u001B[1;32m   1654\u001B[0m \u001B[38;5;28mself\u001B[39m\u001B[38;5;241m.\u001B[39m_set_opts(compression\u001B[38;5;241m=\u001B[39mcompression)\n\u001B[0;32m-> 1655\u001B[0m \u001B[38;5;28;43mself\u001B[39;49m\u001B[38;5;241;43m.\u001B[39;49m\u001B[43m_jwrite\u001B[49m\u001B[38;5;241;43m.\u001B[39;49m\u001B[43mparquet\u001B[49m\u001B[43m(\u001B[49m\u001B[43mpath\u001B[49m\u001B[43m)\u001B[49m\n\nFile \u001B[0;32m/databricks/spark/python/lib/py4j-0.10.9.5-src.zip/py4j/java_gateway.py:1321\u001B[0m, in \u001B[0;36mJavaMember.__call__\u001B[0;34m(self, *args)\u001B[0m\n\u001B[1;32m   1315\u001B[0m command \u001B[38;5;241m=\u001B[39m proto\u001B[38;5;241m.\u001B[39mCALL_COMMAND_NAME \u001B[38;5;241m+\u001B[39m\\\n\u001B[1;32m   1316\u001B[0m     \u001B[38;5;28mself\u001B[39m\u001B[38;5;241m.\u001B[39mcommand_header \u001B[38;5;241m+\u001B[39m\\\n\u001B[1;32m   1317\u001B[0m     args_command \u001B[38;5;241m+\u001B[39m\\\n\u001B[1;32m   1318\u001B[0m     proto\u001B[38;5;241m.\u001B[39mEND_COMMAND_PART\n\u001B[1;32m   1320\u001B[0m answer \u001B[38;5;241m=\u001B[39m \u001B[38;5;28mself\u001B[39m\u001B[38;5;241m.\u001B[39mgateway_client\u001B[38;5;241m.\u001B[39msend_command(command)\n\u001B[0;32m-> 1321\u001B[0m return_value \u001B[38;5;241m=\u001B[39m \u001B[43mget_return_value\u001B[49m\u001B[43m(\u001B[49m\n\u001B[1;32m   1322\u001B[0m \u001B[43m    \u001B[49m\u001B[43manswer\u001B[49m\u001B[43m,\u001B[49m\u001B[43m \u001B[49m\u001B[38;5;28;43mself\u001B[39;49m\u001B[38;5;241;43m.\u001B[39;49m\u001B[43mgateway_client\u001B[49m\u001B[43m,\u001B[49m\u001B[43m \u001B[49m\u001B[38;5;28;43mself\u001B[39;49m\u001B[38;5;241;43m.\u001B[39;49m\u001B[43mtarget_id\u001B[49m\u001B[43m,\u001B[49m\u001B[43m \u001B[49m\u001B[38;5;28;43mself\u001B[39;49m\u001B[38;5;241;43m.\u001B[39;49m\u001B[43mname\u001B[49m\u001B[43m)\u001B[49m\n\u001B[1;32m   1324\u001B[0m \u001B[38;5;28;01mfor\u001B[39;00m temp_arg \u001B[38;5;129;01min\u001B[39;00m temp_args:\n\u001B[1;32m   1325\u001B[0m     temp_arg\u001B[38;5;241m.\u001B[39m_detach()\n\nFile \u001B[0;32m/databricks/spark/python/pyspark/errors/exceptions.py:234\u001B[0m, in \u001B[0;36mcapture_sql_exception.<locals>.deco\u001B[0;34m(*a, **kw)\u001B[0m\n\u001B[1;32m    230\u001B[0m converted \u001B[38;5;241m=\u001B[39m convert_exception(e\u001B[38;5;241m.\u001B[39mjava_exception)\n\u001B[1;32m    231\u001B[0m \u001B[38;5;28;01mif\u001B[39;00m \u001B[38;5;129;01mnot\u001B[39;00m \u001B[38;5;28misinstance\u001B[39m(converted, UnknownException):\n\u001B[1;32m    232\u001B[0m     \u001B[38;5;66;03m# Hide where the exception came from that shows a non-Pythonic\u001B[39;00m\n\u001B[1;32m    233\u001B[0m     \u001B[38;5;66;03m# JVM exception message.\u001B[39;00m\n\u001B[0;32m--> 234\u001B[0m     \u001B[38;5;28;01mraise\u001B[39;00m converted \u001B[38;5;28;01mfrom\u001B[39;00m \u001B[38;5;28mNone\u001B[39m\n\u001B[1;32m    235\u001B[0m \u001B[38;5;28;01melse\u001B[39;00m:\n\u001B[1;32m    236\u001B[0m     \u001B[38;5;28;01mraise\u001B[39;00m\n\n\u001B[0;31mAnalysisException\u001B[0m: Path s3://my-bigdata-project-sa/raw/cleaned_amazon_reviews_us_Beauty_v1_00.parquet already exists.",
       "errorSummary": "<span class='ansi-red-fg'>AnalysisException</span>: Path s3://my-bigdata-project-sa/raw/cleaned_amazon_reviews_us_Beauty_v1_00.parquet already exists.",
       "errorTraceType": "ansi",
       "metadata": {},
       "type": "ipynbError"
      }
     },
     "output_type": "display_data"
    }
   ],
   "source": [
    "output_file_path=\"s3://my-bigdata-project-sa/raw/cleaned_amazon_reviews_us_Beauty_v1_00.parquet\"\n",
    "sdf.write.parquet(output_file_path)"
   ]
  },
  {
   "cell_type": "code",
   "execution_count": 0,
   "metadata": {
    "application/vnd.databricks.v1+cell": {
     "cellMetadata": {},
     "inputWidgets": {},
     "nuid": "b54d82d4-a8df-4349-90d8-4859a2669406",
     "showTitle": false,
     "title": ""
    }
   },
   "outputs": [],
   "source": [
    "df = spark.read.parquet('s3://my-bigdata-project-sa/raw/cleaned_amazon_reviews_us_Beauty_v1_00.parquet')\n",
    "print(df.columns)"
   ]
  },
  {
   "cell_type": "code",
   "execution_count": 0,
   "metadata": {
    "application/vnd.databricks.v1+cell": {
     "cellMetadata": {},
     "inputWidgets": {},
     "nuid": "2433a928-490f-4a28-8759-1364f414f18b",
     "showTitle": false,
     "title": ""
    }
   },
   "outputs": [],
   "source": [
    " # Define a function to strip out any non-ascii characters\n",
    "def ascii_only(mystring):\n",
    "  if mystring:\n",
    "    return mystring.encode('ascii', 'ignore').decode('ascii')\n",
    "  else:\n",
    "    return None"
   ]
  },
  {
   "cell_type": "code",
   "execution_count": 0,
   "metadata": {
    "application/vnd.databricks.v1+cell": {
     "cellMetadata": {},
     "inputWidgets": {},
     "nuid": "8230105a-401c-488f-81f2-3059c2935293",
     "showTitle": false,
     "title": ""
    }
   },
   "outputs": [],
   "source": [
    "# Turn this function into a User-Defined Function (UDF)\n",
    "ascii_udf = udf(ascii_only)"
   ]
  },
  {
   "cell_type": "code",
   "execution_count": 0,
   "metadata": {
    "application/vnd.databricks.v1+cell": {
     "cellMetadata": {},
     "inputWidgets": {},
     "nuid": "8ebde05b-30af-4190-8110-95c9c030463f",
     "showTitle": false,
     "title": ""
    }
   },
   "outputs": [],
   "source": [
    "# Clean the Reivew Body\n",
    "sdf = sdf.withColumn(\"clean_review_body\", ascii_udf('review_body'))"
   ]
  },
  {
   "cell_type": "code",
   "execution_count": 0,
   "metadata": {
    "application/vnd.databricks.v1+cell": {
     "cellMetadata": {},
     "inputWidgets": {},
     "nuid": "6b537725-d94e-4096-b3c1-7a0d84c04a12",
     "showTitle": false,
     "title": ""
    }
   },
   "outputs": [],
   "source": [
    "# Create a count of the review words\n",
    "sdf = sdf.withColumn('review_body_wordcount', size(split(col('review_body'), ' ')))"
   ]
  },
  {
   "cell_type": "code",
   "execution_count": 0,
   "metadata": {
    "application/vnd.databricks.v1+cell": {
     "cellMetadata": {},
     "inputWidgets": {},
     "nuid": "7a2fbfce-3080-4600-8272-47c0a9eedfcc",
     "showTitle": false,
     "title": ""
    }
   },
   "outputs": [],
   "source": [
    "# Filter out short review body texts\n",
    "sdf = sdf.where(length(sdf.clean_review_body) > 10)"
   ]
  },
  {
   "cell_type": "code",
   "execution_count": 0,
   "metadata": {
    "application/vnd.databricks.v1+cell": {
     "cellMetadata": {},
     "inputWidgets": {},
     "nuid": "bfb605bf-6e5f-4160-936e-45d9e1592b32",
     "showTitle": false,
     "title": ""
    }
   },
   "outputs": [],
   "source": [
    "# Filter out review body texts with 5 or fewer words\n",
    "sdf = sdf.where(sdf.review_body_wordcount > 5)"
   ]
  },
  {
   "cell_type": "code",
   "execution_count": 0,
   "metadata": {
    "application/vnd.databricks.v1+cell": {
     "cellMetadata": {},
     "inputWidgets": {},
     "nuid": "50a0dbb9-e1cf-4c5a-8727-02eb0458e011",
     "showTitle": false,
     "title": ""
    }
   },
   "outputs": [],
   "source": [
    "# Set up the tokenizer TF and IDF\n",
    "tokenizer = RegexTokenizer(inputCol=\"clean_review_body\", outputCol=\"clean_review_words\", pattern=\"\\\\w+\", gaps=False)\n",
    "sdf = tokenizer.transform(sdf)"
   ]
  },
  {
   "cell_type": "code",
   "execution_count": 0,
   "metadata": {
    "application/vnd.databricks.v1+cell": {
     "cellMetadata": {},
     "inputWidgets": {},
     "nuid": "2ed33cf3-7be3-4075-a498-7afa40764d3d",
     "showTitle": false,
     "title": ""
    }
   },
   "outputs": [],
   "source": [
    "# Run the hash function over the tokens\n",
    "hashtf = HashingTF(numFeatures=2**16, inputCol=\"clean_review_words\", outputCol='clean_review_tf')\n",
    "sdf = hashtf.transform(sdf)"
   ]
  },
  {
   "cell_type": "code",
   "execution_count": 0,
   "metadata": {
    "application/vnd.databricks.v1+cell": {
     "cellMetadata": {},
     "inputWidgets": {},
     "nuid": "161006b1-b22d-47c1-a857-fc384c786692",
     "showTitle": false,
     "title": ""
    }
   },
   "outputs": [],
   "source": [
    "# Create the inverse document frequency vectors (this can take a long time to complete)\n",
    "idf = IDF(inputCol='clean_review_tf', outputCol=\"clean_review_features\", minDocFreq=5)\n",
    "sdf = idf.fit(sdf).transform(sdf)"
   ]
  },
  {
   "cell_type": "code",
   "execution_count": 0,
   "metadata": {
    "application/vnd.databricks.v1+cell": {
     "cellMetadata": {},
     "inputWidgets": {},
     "nuid": "2bc0e7dd-cee5-4506-843f-d1f54baa0af1",
     "showTitle": false,
     "title": ""
    }
   },
   "outputs": [],
   "source": []
  }
 ],
 "metadata": {
  "application/vnd.databricks.v1+notebook": {
   "dashboards": [],
   "language": "python",
   "notebookMetadata": {
    "pythonIndentUnit": 4
   },
   "notebookName": "part 2",
   "widgets": {}
  }
 },
 "nbformat": 4,
 "nbformat_minor": 0
}
